{
 "cells": [
  {
   "cell_type": "markdown",
   "metadata": {},
   "source": [
    "Rodzaje ruchu:\\\n",
    "Swap - losujemy dwa miasta i zamieniamy je ze sobą.\\\n",
    "Insercja - losujemy miasto i punkt w którym je umieszczamy.\\\n",
    "Zamiana kolejności - losujemy dwa punkty i między nimi zamieniamy kolejność.\\\n",
    "\\\n",
    "Sąsiedztwo to dwa przypadki które różnią się między sobą jednym ruchem\\\n",
    "\\\n",
    "Klasyczny algorytm wspinaczki z multistartem: po każdym ruchu liczymy drogę i sprawdzamy czy jest mniejsza czy nie, wybieramy tylko lepsze opcje. Multistart polega na wielokrotnym odpaleniu algorytmu z losowaniem punktu startowego.\\\n",
    "\\\n",
    "Algorytm symulowanego wyżarzania: zmodyfikowany algorytm wspinaczki, jeśli znalezione rozwiązanie jest gorsze to nadal je rozważamy, na podstawie tego jak bardzo jest gorsze oraz od temperatury.\\\n",
    "Temperatura jest wysoka na początku działania algorytmu i spada razem z czasem wykonywania algorytmu, im niższa temperatura tym mniejsze prawdopodobieństwo wybrania gorszego rozwiązania, bo algorytm już trochę działa i zakładamy że jest w lepszym miejscu niż na początku.\\\n",
    "Pozwala on nam wyjść z niektórych ekstremów lokalnych dzięki możliwości przyjęcia gorszego rozwiązania.\\\n",
    "\\\n",
    "Tabu search:\\\n",
    "Sąsiedztwo wygląda tutaj inaczej: przy swapie losujemy jedną liczbę i zamieniamy wszystkie kombinacje z tą liczbą, ze wszystkich kombinacji wybieramy najlepszą.\\\n",
    "Następnie taka kombinacja trafia na listę tabu, czyli takiej samej zamiany nie można wykonać przez określoną kolejną liczbę ruchów.\\\n",
    "\\\n",
    "Funkcja aspiracji to funkcja, która pod pewnymi warunkami pozwala wykonać ruch z listy tabu ale nie trzeba tego implementować.\\\n",
    "\\\n",
    "Odpowiednia długość listy tabu pozwala wyjść z niektórych ekstremów lokalnych, jeśli będzie za krótka to możemy nie wyjść z ekstremum lokalnego, jeśli będzie za długa to możemy wyjść z ekstremum niepotrzebnie.\n"
   ]
  },
  {
   "cell_type": "code",
   "execution_count": 306,
   "metadata": {},
   "outputs": [],
   "source": [
    "import numpy as np\n",
    "import pandas as pd\n",
    "import math\n",
    "import random"
   ]
  },
  {
   "cell_type": "code",
   "execution_count": 307,
   "metadata": {},
   "outputs": [],
   "source": [
    "#wspinaczka z multistartem\n",
    "distance = np.array([[0,2,4,1,5],\n",
    "                    [2,0,3,8,7],\n",
    "                    [4,3,0,5,1],\n",
    "                    [1,8,5,0,3],\n",
    "                    [5,7,1,3,0]])"
   ]
  },
  {
   "cell_type": "code",
   "execution_count": 308,
   "metadata": {},
   "outputs": [],
   "source": [
    "def Odleglosc(distance, trasa):\n",
    "    suma = 0\n",
    "    n = len(trasa)\n",
    "    \n",
    "    for i, current_city in enumerate(trasa):\n",
    "        next_city = trasa[(i + 1) % n]  # Use modulo to handle the last element\n",
    "        suma += distance[current_city][next_city]\n",
    "\n",
    "    return suma"
   ]
  },
  {
   "cell_type": "code",
   "execution_count": 309,
   "metadata": {},
   "outputs": [],
   "source": [
    "#swap\n",
    "def Swap(trasa):\n",
    "    trasa_temp = trasa.copy()\n",
    "    #print(trasa)\n",
    "    swap = np.random.choice(trasa_temp,2,replace=False)\n",
    "    temp = trasa_temp[swap[0]]\n",
    "    trasa_temp[swap[0]] = trasa_temp[swap[1]]\n",
    "    trasa_temp[swap[1]] = temp\n",
    "    #print(swap)\n",
    "    #print(trasa)\n",
    "    return trasa_temp\n",
    "\n",
    "#insercja\n",
    "def Insercja(trasa):\n",
    "    trasa_temp = trasa.copy()\n",
    "    insercja = np.random.choice(trasa_temp,2,replace=False)\n",
    "    #print(trasa_temp)\n",
    "    #print(insercja)\n",
    "    temp = trasa_temp[insercja[0]]\n",
    "    trasa_temp = np.delete(trasa_temp,insercja[0])\n",
    "    trasa_temp = np.insert(trasa_temp,insercja[1],temp)\n",
    "    #print(trasa_temp)\n",
    "    return trasa_temp\n",
    "\n",
    "def Zamiana(trasa):\n",
    "    trasa_temp = trasa.copy()\n",
    "    zamiana = np.random.choice(trasa_temp,2,replace=False)\n",
    "    zamiana.sort()\n",
    "    #print(trasa_temp)\n",
    "    #print(zamiana)\n",
    "    for i in range(math.ceil((zamiana[1]-zamiana[0])/2)):\n",
    "        temp = trasa_temp[zamiana[1]]\n",
    "        trasa_temp[zamiana[1]] = trasa_temp[zamiana[0]]\n",
    "        trasa_temp[zamiana[0]] = temp\n",
    "        zamiana[1] -= 1\n",
    "        zamiana[0] += 1\n",
    "    #print(trasa_temp)\n",
    "    return trasa_temp"
   ]
  },
  {
   "cell_type": "code",
   "execution_count": 310,
   "metadata": {},
   "outputs": [],
   "source": [
    "#Zamiana(trasa)"
   ]
  },
  {
   "cell_type": "code",
   "execution_count": 311,
   "metadata": {},
   "outputs": [],
   "source": [
    "#trasa = np.arange(len(distance))\n",
    "#np.random.shuffle(trasa)\n",
    "#Insercja(trasa)"
   ]
  },
  {
   "cell_type": "code",
   "execution_count": 312,
   "metadata": {},
   "outputs": [],
   "source": [
    "#temp = trasa[0] #temp = 4\n",
    "#trasa = np.delete(trasa,0)\n",
    "#trasa = np.insert(trasa,4,3)"
   ]
  },
  {
   "cell_type": "code",
   "execution_count": 313,
   "metadata": {},
   "outputs": [],
   "source": [
    "#ruch polegający na swapie, sprawdzenie sąsiadów, zwrot mniejszej trasy\n",
    "def Ruch_swap(distance,trasa):\n",
    "    odl = Odleglosc(distance,trasa)\n",
    "    trasa_new = Swap(trasa)\n",
    "    odl_new = Odleglosc(distance,trasa_new)\n",
    "    if odl_new < odl:\n",
    "        return trasa_new, odl_new\n",
    "    return trasa, odl, trasa_new, odl_new\n",
    "\n",
    "#ruch polegający na insercji, sprawdzenie sąsiadów, zwrot mniejszej trasy\n",
    "def Ruch_insercja(distance,trasa):\n",
    "    odl = Odleglosc(distance,trasa)\n",
    "    trasa_new = Insercja(trasa)\n",
    "    odl_new = Odleglosc(distance,trasa_new)\n",
    "    if odl_new < odl:\n",
    "        return trasa_new, odl_new\n",
    "    return trasa, odl\n",
    "\n",
    "#ruch polegający na zamianie, sprawdzenie sąsiadów, zwrot mniejszej trasy\n",
    "def Ruch_zamiana(distance,trasa):\n",
    "    odl = Odleglosc(distance,trasa)\n",
    "    trasa_new = Zamiana(trasa)\n",
    "    odl_new = Odleglosc(distance,trasa_new)\n",
    "    if odl_new < odl:\n",
    "        return trasa_new, odl_new  \n",
    "    return trasa, odl"
   ]
  },
  {
   "cell_type": "code",
   "execution_count": 314,
   "metadata": {},
   "outputs": [
    {
     "data": {
      "text/plain": [
       "array([[   0, 1495,  381, ...,  488,  753, 1184],\n",
       "       [1495,    0, 1135, ..., 1727, 1388,  661],\n",
       "       [ 381, 1135,    0, ...,  640,  591,  810],\n",
       "       ...,\n",
       "       [ 488, 1727,  640, ...,    0,  520, 1242],\n",
       "       [ 753, 1388,  591, ...,  520,    0,  801],\n",
       "       [1184,  661,  810, ..., 1242,  801,    0]], dtype=int64)"
      ]
     },
     "execution_count": 314,
     "metadata": {},
     "output_type": "execute_result"
    }
   ],
   "source": [
    "distance = pd.read_excel(\"Dane_TSP_48.xlsx\")\n",
    "distance = distance.to_numpy()\n",
    "distance = np.delete(distance,0,1)\n",
    "distance"
   ]
  },
  {
   "cell_type": "code",
   "execution_count": 315,
   "metadata": {},
   "outputs": [
    {
     "data": {
      "text/plain": [
       "[(14,\n",
       "  array([26, 42, 18, 36,  5, 29,  6, 35, 43, 30,  8,  7,  0, 21, 40,  1, 41,\n",
       "          9, 25,  3, 34, 44, 38, 23, 31, 47, 33, 28,  4, 24, 22, 46, 10, 11,\n",
       "         39, 19, 32, 45, 17, 37, 14, 15,  2, 13, 12, 20, 27, 16]),\n",
       "  16104),\n",
       " (4,\n",
       "  array([46, 38, 31, 23,  9, 34, 44,  3, 25, 19, 29, 26, 36, 17, 45,  0,  8,\n",
       "         21, 40, 15, 39, 43,  6, 27,  5, 18, 16, 42, 35, 30, 32, 11, 14, 37,\n",
       "          7, 22,  2, 33, 13, 12, 20, 24, 47, 41, 28,  1,  4, 10]),\n",
       "  17178),\n",
       " (7,\n",
       "  array([ 8, 37,  7, 30, 35,  6, 17, 43, 45, 27, 26, 18, 36, 16, 42, 31,  1,\n",
       "         28, 40,  4, 23, 44, 34, 25,  3,  9, 41, 47, 33, 22, 46, 19, 32,  5,\n",
       "         29, 12, 24, 38, 20, 11, 14,  0, 15, 21,  2, 10, 13, 39]),\n",
       "  17383),\n",
       " (26,\n",
       "  array([17, 29,  5, 32,  2, 40, 15,  0,  8, 30, 43,  6, 36, 26, 42, 16, 18,\n",
       "         27, 35, 39, 22, 13, 44, 34,  9, 23, 31, 38, 20, 24, 33, 12, 11, 10,\n",
       "         47, 41, 25,  3,  1,  4, 28, 21,  7, 37, 14, 45, 19, 46]),\n",
       "  17514),\n",
       " (34,\n",
       "  array([37,  7, 15, 21,  2, 22, 10, 46, 20, 19, 29, 36, 18, 16,  8,  0, 14,\n",
       "         32, 27,  5,  6, 17, 45, 35, 26, 42, 39, 40,  4, 47, 33, 12, 13, 38,\n",
       "         23,  9, 44, 34, 41,  3, 25,  1, 28, 31, 24, 11, 30, 43]),\n",
       "  17572),\n",
       " (73,\n",
       "  array([23, 12, 46, 13, 24, 20, 19, 45, 17, 35, 43, 27, 30,  8,  0, 21, 40,\n",
       "         15, 47, 44,  9, 41,  4,  1, 28, 33,  2,  7, 37,  6,  5, 42, 29, 36,\n",
       "         18, 26, 16, 32, 10, 11, 14, 39, 22, 38, 31, 25,  3, 34]),\n",
       "  17589),\n",
       " (84,\n",
       "  array([41, 47,  4, 28, 40, 39, 45, 19, 12, 22, 13, 24, 38, 23, 44, 34,  3,\n",
       "         25,  9, 33, 37, 30,  6, 17,  5, 16, 26, 42, 35,  0,  7, 20, 31, 46,\n",
       "         10, 14, 11, 32, 29, 18, 36, 27, 43,  8, 21, 15,  2,  1]),\n",
       "  17807),\n",
       " (49,\n",
       "  array([ 8, 37,  7, 15, 21, 43, 27, 26, 16, 42,  6, 19, 46, 10, 47, 44, 34,\n",
       "         25,  3,  9, 23, 41, 31, 38, 12, 20, 11, 35,  5, 29, 36, 18, 14,  2,\n",
       "         28,  1,  4, 40, 33, 22, 24, 13, 32, 45, 17, 30,  0, 39]),\n",
       "  17811),\n",
       " (97,\n",
       "  array([ 6, 27, 36, 26, 18, 17,  0, 15,  7, 39, 14, 21, 40, 24, 13, 22, 10,\n",
       "         11, 20, 31, 38, 47,  4, 41, 23, 44, 34,  9, 12, 32, 43, 30, 35, 16,\n",
       "         42,  5, 29, 37,  8,  2, 33,  1,  3, 25, 28, 46, 19, 45]),\n",
       "  17846),\n",
       " (70,\n",
       "  array([31, 38, 13, 24, 33, 47, 23, 44, 34, 25,  3, 41,  9,  1, 11, 35,  6,\n",
       "         29,  5, 42, 16, 26, 27, 17, 43, 30, 14, 39, 10, 22,  8, 37, 36, 18,\n",
       "         45, 12, 15, 21,  7,  0,  2, 40, 28,  4, 20, 32, 19, 46]),\n",
       "  17852)]"
      ]
     },
     "execution_count": 315,
     "metadata": {},
     "output_type": "execute_result"
    }
   ],
   "source": [
    "def IHC(distance, ruch, n_iter_ruch, n_iter):  # ruch = {Swap, Insercja, Zamiana}\n",
    "    min_iter = []\n",
    "    for i in range(n_iter):\n",
    "        trasa = np.arange(len(distance))\n",
    "        np.random.shuffle(trasa)\n",
    "        odl = Odleglosc(distance,trasa)\n",
    "        for j in range(n_iter_ruch):\n",
    "                trasa_new = ruch(trasa)\n",
    "                odl_new = Odleglosc(distance,trasa_new)\n",
    "                if odl_new < odl:\n",
    "                    odl = odl_new\n",
    "                    trasa = trasa_new\n",
    "        min_iter.append((i,trasa,odl))\n",
    "    return min_iter\n",
    "wynik = IHC(distance,Swap,1000,100)\n",
    "wynik.sort(key=lambda x: x[2])\n",
    "wynik[0:10]\n",
    "\n"
   ]
  },
  {
   "cell_type": "code",
   "execution_count": 316,
   "metadata": {},
   "outputs": [],
   "source": [
    "def Geometric(T,alpha):\n",
    "    return alpha*T\n",
    "\n",
    "def Slow(T,alpha):\n",
    "    return T/(1+alpha*T)\n"
   ]
  },
  {
   "cell_type": "code",
   "execution_count": 317,
   "metadata": {},
   "outputs": [
    {
     "data": {
      "text/plain": [
       "[(15,\n",
       "  array([27, 36, 26, 42, 47,  4, 25,  3,  1, 28, 21, 15, 40, 13, 12, 24, 33,\n",
       "         20, 38, 31, 23, 34, 44,  9, 41, 46, 19, 10,  2, 22, 39, 37, 30,  7,\n",
       "          0,  8, 11, 14, 32, 45, 17,  6, 43, 35, 16, 18,  5, 29]),\n",
       "  16559),\n",
       " (33,\n",
       "  array([27, 19, 31, 23, 44,  9, 34,  3, 25,  1, 41,  4, 47, 33, 12, 20, 38,\n",
       "         24, 22, 39, 45,  8, 21, 15,  0,  7, 37, 43, 17,  6, 18, 16, 42, 26,\n",
       "         30, 40, 28,  2, 13, 10, 11, 46, 14, 32, 35, 29, 36,  5]),\n",
       "  16796),\n",
       " (17,\n",
       "  array([30, 43,  6, 18, 16, 29, 36, 27, 32, 39, 14, 10, 11,  5, 42, 26, 35,\n",
       "         45,  8,  0,  7, 21, 15,  2, 40, 33,  1, 41, 25,  9, 28, 13, 24, 12,\n",
       "         22, 46, 31, 47, 23, 44, 34,  3,  4, 38, 20, 19, 17, 37]),\n",
       "  16902),\n",
       " (14,\n",
       "  array([47, 38, 33, 21,  8, 39, 45, 32, 11, 14, 37, 43, 30, 42, 16, 26, 35,\n",
       "         17,  6, 27, 29, 18, 36,  5, 19, 20, 31, 44, 34,  9, 23,  3, 25,  4,\n",
       "         13, 22, 10, 12, 46, 24, 28,  1, 41,  2,  7,  0, 15, 40]),\n",
       "  17044),\n",
       " (25,\n",
       "  array([30, 43, 17, 19, 41,  9,  3, 25,  1, 28, 40,  2, 33, 13,  4, 47, 31,\n",
       "         44, 34, 23, 38, 20, 11, 32, 35, 37,  8,  7,  0, 21, 15, 22, 14, 45,\n",
       "          6, 36, 26, 29, 27,  5, 18, 16, 42, 10, 46, 12, 24, 39]),\n",
       "  17053),\n",
       " (12,\n",
       "  array([12, 20, 31, 38, 24, 13, 22, 39, 10, 19, 32, 43, 17, 35, 33,  4, 47,\n",
       "         23,  2,  7, 21, 15, 28,  1, 25,  3, 44, 34,  9, 41, 40,  0,  8, 11,\n",
       "         14, 45, 30, 37,  5, 36, 18, 29,  6, 27, 16, 26, 42, 46]),\n",
       "  17216),\n",
       " (38,\n",
       "  array([17, 30, 45, 14, 39, 37,  7,  0,  8, 15, 21,  2, 38, 31, 23,  9, 41,\n",
       "         20, 42,  5, 29, 27, 43, 32, 11, 19, 22, 33, 40, 28, 13, 10, 46, 12,\n",
       "         24,  4,  1,  3, 25, 34, 44, 47, 35, 26, 16, 18, 36,  6]),\n",
       "  17280),\n",
       " (0,\n",
       "  array([ 2, 31, 25,  3,  1, 28,  4, 20, 46, 32, 42, 16, 26, 29,  6, 37, 30,\n",
       "         45, 14, 11, 22, 33, 40,  0,  7, 15,  8, 43, 17, 36, 18,  5, 27, 35,\n",
       "         19, 13, 12, 24, 38, 47,  9, 34, 44, 23, 41, 10, 39, 21]),\n",
       "  17384),\n",
       " (63,\n",
       "  array([ 3, 34, 44, 25, 41,  9, 23, 47,  4, 28,  1, 38, 19, 32, 17, 42, 16,\n",
       "         18, 26, 27, 29, 36, 35, 45, 37,  8, 14, 11, 20, 31, 24, 46,  6,  5,\n",
       "         43, 30,  7, 22, 13, 12, 33,  2, 10, 39,  0, 21, 15, 40]),\n",
       "  17494),\n",
       " (51,\n",
       "  array([40,  2, 15, 21, 39, 27, 35,  6, 43, 17, 42, 29, 10, 12, 47,  1, 28,\n",
       "         41, 23, 34, 44, 25,  3,  9, 31, 20, 46, 11, 14, 19, 18, 26, 16, 36,\n",
       "          5, 38,  4, 24,  0,  7, 32, 45, 30, 37,  8, 22, 13, 33]),\n",
       "  17601)]"
      ]
     },
     "execution_count": 317,
     "metadata": {},
     "output_type": "execute_result"
    }
   ],
   "source": [
    "def SA(distance, ruch, n_iter_ruch, n_iter, T_start, cooling, alpha):  # ruch = {Swap, Insercja, Zamiana}, cooling = {Geometric, Slow}, alpha = cooling param \n",
    "    min_iter = []\n",
    "    for i in range(n_iter):\n",
    "        T = T_start\n",
    "        trasa = np.arange(len(distance))\n",
    "        np.random.shuffle(trasa)\n",
    "        odl = Odleglosc(distance,trasa)\n",
    "        for j in range(n_iter_ruch):\n",
    "                trasa_new = ruch(trasa)\n",
    "                odl_new = Odleglosc(distance,trasa_new)\n",
    "                diff_odl = odl_new - odl\n",
    "                if diff_odl < 0:\n",
    "                    odl = odl_new\n",
    "                    trasa = trasa_new\n",
    "                elif random.random() < math.exp(-diff_odl/T):\n",
    "                    odl = odl_new\n",
    "                    trasa = trasa_new\n",
    "                T = cooling(T,alpha)\n",
    "        min_iter.append((i,trasa,odl))\n",
    "    return min_iter\n",
    "wynik = SA(distance,Swap,1000,100,100,Slow,0.1)\n",
    "wynik.sort(key=lambda x: x[2])\n",
    "wynik[0:10]"
   ]
  },
  {
   "cell_type": "code",
   "execution_count": 318,
   "metadata": {},
   "outputs": [
    {
     "data": {
      "text/plain": [
       "[(54,\n",
       "  array([47, 38, 28, 33, 21, 15, 40, 41,  1,  3, 25, 44, 34,  9, 23, 31, 46,\n",
       "         14,  8,  0,  7, 37, 30, 43,  6, 45, 32, 11, 17, 35, 36, 18, 29, 16,\n",
       "         42, 26,  5, 27, 19, 13,  4, 24, 12, 39,  2, 22, 10, 20]),\n",
       "  16159),\n",
       " (82,\n",
       "  array([47, 41,  9, 34, 44,  3, 25,  1, 28,  4, 33,  2, 40, 13, 24, 31, 38,\n",
       "         29, 26, 18, 16, 19, 20, 46, 32, 45,  8, 14,  0,  7, 39, 37, 30, 43,\n",
       "         17,  6, 27, 36,  5, 42, 35, 15, 21, 22, 10, 11, 12, 23]),\n",
       "  16618),\n",
       " (20,\n",
       "  array([41, 25,  3,  1, 15, 21, 39, 14, 45, 32,  5, 16,  6, 37, 30, 36, 18,\n",
       "         26, 42, 29, 27, 19, 31, 38, 47, 24, 13, 10, 11, 17, 35, 43,  8,  7,\n",
       "          0,  2, 22, 12, 20, 46, 33, 40, 28,  9, 34, 44, 23,  4]),\n",
       "  16648),\n",
       " (27,\n",
       "  array([10, 19, 46, 20, 12, 24, 22,  7, 15, 21, 30,  5, 18, 36, 35, 17, 37,\n",
       "          8,  0,  2, 40,  1, 41, 38, 31, 11, 32, 45, 43, 42, 16, 26, 29, 27,\n",
       "          6, 14, 39, 33, 28, 23,  9, 25,  3, 34, 44, 47,  4, 13]),\n",
       "  16699),\n",
       " (33,\n",
       "  array([10, 45, 17, 35, 32, 19, 46,  4,  9, 44, 34,  3, 25,  1, 40, 15, 21,\n",
       "         39, 27, 43,  7,  0,  8, 37, 30, 29, 26, 42, 16, 18, 36,  5, 20, 38,\n",
       "         31, 23, 41, 47, 28, 33,  2, 14,  6, 11, 12, 24, 22, 13]),\n",
       "  16879),\n",
       " (3,\n",
       "  array([40, 15, 14, 39,  8, 12, 22, 31, 23,  4, 47, 38, 24, 13,  2, 41,  3,\n",
       "         25, 44, 34,  9, 20, 46, 19, 10, 11, 35, 16, 42, 26,  5, 43, 32, 45,\n",
       "         17,  6, 27, 29, 18, 36, 30, 37,  7,  0, 21, 33, 28,  1]),\n",
       "  17007),\n",
       " (2,\n",
       "  array([47, 23, 44, 34,  3, 25,  9, 31, 12, 10, 11, 19, 46, 20,  2, 21,  8,\n",
       "          7,  0, 14, 39, 45, 32, 17,  5, 26, 18, 36, 27,  6, 30, 38,  4, 28,\n",
       "         13, 24, 33, 22, 35, 29, 16, 42, 43, 37, 15, 40,  1, 41]),\n",
       "  17124),\n",
       " (92,\n",
       "  array([23, 47, 13, 21,  7,  8, 10, 46, 12, 22,  2, 33, 41,  4, 24, 11, 39,\n",
       "         14, 45, 30, 43,  6, 42, 16, 18, 26, 36,  5, 29, 27, 17, 35, 40, 28,\n",
       "          1, 25,  3, 34, 44,  9, 15,  0, 37, 32, 19, 20, 38, 31]),\n",
       "  17139),\n",
       " (16,\n",
       "  array([14, 45,  6,  5, 18, 36, 26, 29, 35, 32, 47,  4, 41, 38, 23, 44, 34,\n",
       "         31, 20, 46, 19, 42, 16, 27, 37,  7, 21,  2, 13, 24, 12, 22, 10, 11,\n",
       "         43, 17, 30,  8,  0, 15, 33, 28,  9, 25,  3,  1, 40, 39]),\n",
       "  17197),\n",
       " (32,\n",
       "  array([40,  2, 22, 33,  4, 47, 13, 17, 35, 45, 39,  0,  7, 37,  5,  6, 19,\n",
       "         46, 11, 30, 43, 27, 29, 18, 36, 26, 42, 16, 32, 20, 38, 31, 24, 12,\n",
       "         14,  8, 21, 15, 10, 23, 44, 34,  3, 25,  9, 41,  1, 28]),\n",
       "  17248)]"
      ]
     },
     "execution_count": 318,
     "metadata": {},
     "output_type": "execute_result"
    }
   ],
   "source": [
    "# wersja SA gdzie warunkiem stopu jest temperatura a nie liczba iteracji \n",
    "# (chyba lepiej tak bo upewniamy sie ze temperatura jest niska a podajac liczbe iteracji mozemy skonczyc na wysokiej temperaturze)\n",
    "# mozna tez dodac warunek stopu ze po np 100 iteracjach bez poprawy rozwiazania to koniec\n",
    "\n",
    "def SA(distance, ruch, n_iter, T_start, T_stop, cooling, alpha):  # ruch = {Swap, Insercja, Zamiana}, cooling = {Geometric, Slow}, alpha = cooling param \n",
    "    min_iter = []\n",
    "    for i in range(n_iter):\n",
    "        T = T_start\n",
    "        trasa = np.arange(len(distance))\n",
    "        np.random.shuffle(trasa)\n",
    "        odl = Odleglosc(distance,trasa)\n",
    "        while(T > T_stop):\n",
    "                trasa_new = ruch(trasa)\n",
    "                odl_new = Odleglosc(distance,trasa_new)\n",
    "                diff_odl = odl_new - odl\n",
    "                if diff_odl < 0:\n",
    "                    odl = odl_new\n",
    "                    trasa = trasa_new\n",
    "                elif random.random() < math.exp(-diff_odl/T):\n",
    "                    odl = odl_new\n",
    "                    trasa = trasa_new\n",
    "                T = cooling(T,alpha)\n",
    "        min_iter.append((i,trasa,odl))\n",
    "    return min_iter\n",
    "wynik = SA(distance,Swap,100,100,0.01,Slow,0.1)\n",
    "wynik.sort(key=lambda x: x[2])\n",
    "wynik[0:10]"
   ]
  },
  {
   "cell_type": "code",
   "execution_count": 319,
   "metadata": {},
   "outputs": [
    {
     "name": "stdout",
     "output_type": "stream",
     "text": [
      "1000\n"
     ]
    },
    {
     "data": {
      "text/plain": [
       "0.09990009990009993"
      ]
     },
     "execution_count": 319,
     "metadata": {},
     "output_type": "execute_result"
    }
   ],
   "source": [
    "# funkcje pomocnicze do sprawdzenia ile iteracji odpowiada parametrowi T_stop\n",
    "def T_stopToIter(T_start, T_stop, cooling, alpha):\n",
    "    T = T_start\n",
    "    i = 0\n",
    "    while(T > T_stop):\n",
    "        T = cooling(T,alpha)\n",
    "        i += 1\n",
    "    return i\n",
    "def IterToT_stop(T_start, n_iter, cooling, alpha):\n",
    "    T = T_start\n",
    "    for i in range(n_iter):\n",
    "        T = cooling(T,alpha)\n",
    "    return T\n",
    "print(T_stopToIter(100,0.01,Slow,0.1))\n",
    "IterToT_stop(100,100,Slow,0.1)"
   ]
  },
  {
   "cell_type": "markdown",
   "metadata": {},
   "source": [
    "algorytm genetyczny"
   ]
  },
  {
   "cell_type": "code",
   "execution_count": 320,
   "metadata": {},
   "outputs": [],
   "source": [
    "def ox(r1, r2):\n",
    "    n = len(r1)\n",
    "    a = random.randint(0,n-1)\n",
    "    b = random.randint(0,n-1)\n",
    "    if a > b:\n",
    "        a,b = b,a\n",
    "    p1 = r1.copy(); p2 = r2.copy()\n",
    "    p1[a:b] = r2[a:b]; p2[a:b] = r1[a:b]\n",
    "    return p1, p2"
   ]
  },
  {
   "cell_type": "code",
   "execution_count": 341,
   "metadata": {},
   "outputs": [
    {
     "name": "stdout",
     "output_type": "stream",
     "text": [
      "[0, 0, 0, 4, 5, 6, 7, 0, 0] [0, 0, 0, 1, 8, 7, 6, 0, 0]\n"
     ]
    }
   ],
   "source": [
    "r1 = [1,2,3,4,5,6,7,8,9]\n",
    "r2 = [4,5,2,1,8,7,6,9,3]\n",
    "n = len(r1)\n",
    "a = 3\n",
    "b = 7\n",
    "section = np.arange(a)\n",
    "section = np.append(section,np.arange(b,n))\n",
    "if a > b:\n",
    "    a,b = b,a\n",
    "p1 = r1.copy()\n",
    "p2 = r2.copy()\n",
    "p1[0:a], p1[b:n] = np.zeros(a).astype(int), np.zeros(n-b).astype(int)\n",
    "p2[0:a], p2[b:n] = np.zeros(a).astype(int), np.zeros(n-b).astype(int)\n",
    "print(p1,p2)\n",
    "\n",
    "j = 0\n",
    "for i in section:\n",
    "    while True:\n",
    "        if r2[i] not in p1:\n",
    "            p2[i] = r1[j]\n",
    "            j+=1\n",
    "            break\n",
    "        else:\n",
    "            j+=1\n",
    "print(p1,p2)"
   ]
  },
  {
   "cell_type": "code",
   "execution_count": null,
   "metadata": {},
   "outputs": [],
   "source": []
  },
  {
   "cell_type": "code",
   "execution_count": 322,
   "metadata": {},
   "outputs": [],
   "source": [
    "# #algorytm ze swapem\n",
    "# trasa = np.arange(len(distance))\n",
    "# np.random.shuffle(trasa)\n",
    "# licza_iteracji = 5\n",
    "\n",
    "# print(\"Start\")\n",
    "# print(trasa)\n",
    "# print(Odleglosc(distance,trasa))\n",
    "# for i in range(licza_iteracji):\n",
    "#     print(\"\\n{} iteracja\".format(i+1))\n",
    "#     trasa = Ruch_swap(distance,trasa)\n",
    "#     print(trasa)\n",
    "#     print(Odleglosc(distance,trasa))\n"
   ]
  },
  {
   "cell_type": "code",
   "execution_count": 323,
   "metadata": {},
   "outputs": [],
   "source": [
    "# #algorytm z insercją\n",
    "# trasa = np.arange(len(distance))\n",
    "# np.random.shuffle(trasa)\n",
    "# licza_iteracji = 5\n",
    "\n",
    "# print(\"Start\")\n",
    "# print(trasa)\n",
    "# print(Odleglosc(distance,trasa))\n",
    "# for i in range(licza_iteracji):\n",
    "#     print(\"\\n{} iteracja\".format(i+1))\n",
    "#     trasa = Ruch_insercja(distance,trasa)\n",
    "#     print(trasa)\n",
    "#     print(Odleglosc(distance,trasa))"
   ]
  },
  {
   "cell_type": "code",
   "execution_count": 324,
   "metadata": {},
   "outputs": [],
   "source": [
    "# #algorytm z zamianą\n",
    "# trasa = np.arange(len(distance))\n",
    "# np.random.shuffle(trasa)\n",
    "# licza_iteracji = 1000\n",
    "\n",
    "# print(\"Start\")\n",
    "# print(trasa)\n",
    "# print(Odleglosc(distance,trasa))\n",
    "# for i in range(licza_iteracji):\n",
    "#     print(\"\\n{} iteracja\".format(i+1))\n",
    "#     trasa = Ruch_zamiana(distance,trasa)\n",
    "#     print(trasa)\n",
    "#     print(Odleglosc(distance,trasa))"
   ]
  },
  {
   "cell_type": "code",
   "execution_count": 325,
   "metadata": {},
   "outputs": [
    {
     "ename": "KeyboardInterrupt",
     "evalue": "",
     "output_type": "error",
     "traceback": [
      "\u001b[1;31m---------------------------------------------------------------------------\u001b[0m",
      "\u001b[1;31mKeyboardInterrupt\u001b[0m                         Traceback (most recent call last)",
      "Cell \u001b[1;32mIn[325], line 13\u001b[0m\n\u001b[0;32m     11\u001b[0m \u001b[38;5;28;01mfor\u001b[39;00m i \u001b[38;5;129;01min\u001b[39;00m \u001b[38;5;28mrange\u001b[39m(\u001b[38;5;28mlen\u001b[39m(potencjalne)):\n\u001b[0;32m     12\u001b[0m     trasa[cur] \u001b[38;5;241m=\u001b[39m potencjalne[i]\n\u001b[1;32m---> 13\u001b[0m     odleglosci\u001b[38;5;241m.\u001b[39mappend((potencjalne[i],\u001b[43mOdleglosc\u001b[49m\u001b[43m(\u001b[49m\u001b[43mdistance\u001b[49m\u001b[43m,\u001b[49m\u001b[43mtrasa\u001b[49m\u001b[43m[\u001b[49m\u001b[38;5;241;43m0\u001b[39;49m\u001b[43m:\u001b[49m\u001b[43mcur\u001b[49m\u001b[38;5;241;43m+\u001b[39;49m\u001b[38;5;241;43m1\u001b[39;49m\u001b[43m]\u001b[49m\u001b[43m)\u001b[49m))\n\u001b[0;32m     14\u001b[0m odleglosci\u001b[38;5;241m.\u001b[39msort(key\u001b[38;5;241m=\u001b[39m\u001b[38;5;28;01mlambda\u001b[39;00m x: x[\u001b[38;5;241m1\u001b[39m])\n\u001b[0;32m     15\u001b[0m trasa[cur] \u001b[38;5;241m=\u001b[39m odleglosci[\u001b[38;5;241m0\u001b[39m][\u001b[38;5;241m0\u001b[39m]\n",
      "Cell \u001b[1;32mIn[308], line 7\u001b[0m, in \u001b[0;36mOdleglosc\u001b[1;34m(distance, trasa)\u001b[0m\n\u001b[0;32m      5\u001b[0m \u001b[38;5;28;01mfor\u001b[39;00m i, current_city \u001b[38;5;129;01min\u001b[39;00m \u001b[38;5;28menumerate\u001b[39m(trasa):\n\u001b[0;32m      6\u001b[0m     next_city \u001b[38;5;241m=\u001b[39m trasa[(i \u001b[38;5;241m+\u001b[39m \u001b[38;5;241m1\u001b[39m) \u001b[38;5;241m%\u001b[39m n]  \u001b[38;5;66;03m# Use modulo to handle the last element\u001b[39;00m\n\u001b[1;32m----> 7\u001b[0m     suma \u001b[38;5;241m+\u001b[39m\u001b[38;5;241m=\u001b[39m distance[current_city][next_city]\n\u001b[0;32m      9\u001b[0m \u001b[38;5;28;01mreturn\u001b[39;00m suma\n",
      "\u001b[1;31mKeyboardInterrupt\u001b[0m: "
     ]
    }
   ],
   "source": [
    "#NN\n",
    "min_odl = []\n",
    "for n in range(len(distance)):\n",
    "    potencjalne = np.arange(len(distance))\n",
    "    trasa = np.zeros(len(distance),dtype=int)\n",
    "    trasa[0] = potencjalne[n]\n",
    "    potencjalne = np.delete(potencjalne,int(trasa[0]))\n",
    "\n",
    "    for cur in range(1,len(trasa)):\n",
    "        odleglosci = []\n",
    "        for i in range(len(potencjalne)):\n",
    "            trasa[cur] = potencjalne[i]\n",
    "            odleglosci.append((potencjalne[i],Odleglosc(distance,trasa[0:cur+1])))\n",
    "        odleglosci.sort(key=lambda x: x[1])\n",
    "        trasa[cur] = odleglosci[0][0]\n",
    "        potencjalne = np.delete(potencjalne,potencjalne==trasa[cur])\n",
    "    min_odl.append((Odleglosc(distance,trasa),trasa))\n",
    "    \n",
    "min_odl.sort(key=lambda x:x[0])\n",
    "min_odl[:10]"
   ]
  }
 ],
 "metadata": {
  "kernelspec": {
   "display_name": "base",
   "language": "python",
   "name": "python3"
  },
  "language_info": {
   "codemirror_mode": {
    "name": "ipython",
    "version": 3
   },
   "file_extension": ".py",
   "mimetype": "text/x-python",
   "name": "python",
   "nbconvert_exporter": "python",
   "pygments_lexer": "ipython3",
   "version": "3.10.4"
  }
 },
 "nbformat": 4,
 "nbformat_minor": 2
}
