{
 "cells": [
  {
   "cell_type": "markdown",
   "metadata": {},
   "source": [
    "Rodzaje ruchu:\\\n",
    "Swap - losujemy dwa miasta i zamieniamy je ze sobą.\\\n",
    "Insercja - losujemy miasto i punkt w którym je umieszczamy.\\\n",
    "Zamiana kolejności - losujemy dwa punkty i między nimi zamieniamy kolejność.\\\n",
    "\\\n",
    "Sąsiedztwo to dwa przypadki które różnią się między sobą jednym ruchem\\\n",
    "\\\n",
    "Klasyczny algorytm wspinaczki z multistartem: po każdym ruchu liczymy drogę i sprawdzamy czy jest mniejsza czy nie, wybieramy tylko lepsze opcje. Multistart polega na wielokrotnym odpaleniu algorytmu z losowaniem punktu startowego.\\\n",
    "\\\n",
    "Algorytm symulowanego wyżarzania: zmodyfikowany algorytm wspinaczki, jeśli znalezione rozwiązanie jest gorsze to nadal je rozważamy, na podstawie tego jak bardzo jest gorsze oraz od temperatury.\\\n",
    "Temperatura jest wysoka na początku działania algorytmu i spada razem z czasem wykonywania algorytmu, im niższa temperatura tym mniejsze prawdopodobieństwo wybrania gorszego rozwiązania, bo algorytm już trochę działa i zakładamy że jest w lepszym miejscu niż na początku.\\\n",
    "Pozwala on nam wyjść z niektórych ekstremów lokalnych dzięki możliwości przyjęcia gorszego rozwiązania.\\\n",
    "\\\n",
    "Tabu search:\\\n",
    "Sąsiedztwo wygląda tutaj inaczej: przy swapie losujemy jedną liczbę i zamieniamy wszystkie kombinacje z tą liczbą, ze wszystkich kombinacji wybieramy najlepszą.\\\n",
    "Następnie taka kombinacja trafia na listę tabu, czyli takiej samej zamiany nie można wykonać przez określoną kolejną liczbę ruchów.\\\n",
    "\\\n",
    "Funkcja aspiracji to funkcja, która pod pewnymi warunkami pozwala wykonać ruch z listy tabu ale nie trzeba tego implementować.\\\n",
    "\\\n",
    "Odpowiednia długość listy tabu pozwala wyjść z niektórych ekstremów lokalnych, jeśli będzie za krótka to możemy nie wyjść z ekstremum lokalnego, jeśli będzie za długa to możemy wyjść z ekstremum niepotrzebnie.\n"
   ]
  },
  {
   "cell_type": "code",
   "execution_count": 25,
   "metadata": {},
   "outputs": [],
   "source": [
    "import numpy as np\n",
    "import pandas as pd\n",
    "import math\n",
    "import random"
   ]
  },
  {
   "cell_type": "code",
   "execution_count": 26,
   "metadata": {},
   "outputs": [],
   "source": [
    "#wspinaczka z multistartem\n",
    "distance = np.array([[0,2,4,1,5],\n",
    "                    [2,0,3,8,7],\n",
    "                    [4,3,0,5,1],\n",
    "                    [1,8,5,0,3],\n",
    "                    [5,7,1,3,0]])"
   ]
  },
  {
   "cell_type": "code",
   "execution_count": 27,
   "metadata": {},
   "outputs": [],
   "source": [
    "def Odleglosc(distance, trasa):\n",
    "    suma = 0\n",
    "    n = len(trasa)\n",
    "    \n",
    "    for i, current_city in enumerate(trasa):\n",
    "        next_city = trasa[(i + 1) % n]  # Use modulo to handle the last element\n",
    "        suma += distance[current_city][next_city]\n",
    "\n",
    "    return suma"
   ]
  },
  {
   "cell_type": "code",
   "execution_count": 28,
   "metadata": {},
   "outputs": [],
   "source": [
    "#swap\n",
    "def Swap(trasa):\n",
    "    trasa_temp = trasa.copy()\n",
    "    #print(trasa)\n",
    "    swap = np.random.choice(trasa_temp,2,replace=False)\n",
    "    temp = trasa_temp[swap[0]]\n",
    "    trasa_temp[swap[0]] = trasa_temp[swap[1]]\n",
    "    trasa_temp[swap[1]] = temp\n",
    "    #print(swap)\n",
    "    #print(trasa)\n",
    "    return trasa_temp\n",
    "\n",
    "#insercja\n",
    "def Insercja(trasa):\n",
    "    trasa_temp = trasa.copy()\n",
    "    insercja = np.random.choice(trasa_temp,2,replace=False)\n",
    "    #print(trasa_temp)\n",
    "    #print(insercja)\n",
    "    temp = trasa_temp[insercja[0]]\n",
    "    trasa_temp = np.delete(trasa_temp,insercja[0])\n",
    "    trasa_temp = np.insert(trasa_temp,insercja[1],temp)\n",
    "    #print(trasa_temp)\n",
    "    return trasa_temp\n",
    "\n",
    "def Zamiana(trasa):\n",
    "    trasa_temp = trasa.copy()\n",
    "    zamiana = np.random.choice(trasa_temp,2,replace=False)\n",
    "    zamiana.sort()\n",
    "    #print(trasa_temp)\n",
    "    #print(zamiana)\n",
    "    for i in range(math.ceil((zamiana[1]-zamiana[0])/2)):\n",
    "        temp = trasa_temp[zamiana[1]]\n",
    "        trasa_temp[zamiana[1]] = trasa_temp[zamiana[0]]\n",
    "        trasa_temp[zamiana[0]] = temp\n",
    "        zamiana[1] -= 1\n",
    "        zamiana[0] += 1\n",
    "    #print(trasa_temp)\n",
    "    return trasa_temp"
   ]
  },
  {
   "cell_type": "code",
   "execution_count": 29,
   "metadata": {},
   "outputs": [],
   "source": [
    "#Zamiana(trasa)"
   ]
  },
  {
   "cell_type": "code",
   "execution_count": 30,
   "metadata": {},
   "outputs": [],
   "source": [
    "#trasa = np.arange(len(distance))\n",
    "#np.random.shuffle(trasa)\n",
    "#Insercja(trasa)"
   ]
  },
  {
   "cell_type": "code",
   "execution_count": 31,
   "metadata": {},
   "outputs": [],
   "source": [
    "#temp = trasa[0] #temp = 4\n",
    "#trasa = np.delete(trasa,0)\n",
    "#trasa = np.insert(trasa,4,3)"
   ]
  },
  {
   "cell_type": "code",
   "execution_count": 32,
   "metadata": {},
   "outputs": [],
   "source": [
    "#ruch polegający na swapie, sprawdzenie sąsiadów, zwrot mniejszej trasy\n",
    "def Ruch_swap(distance,trasa):\n",
    "    odl = Odleglosc(distance,trasa)\n",
    "    trasa_new = Swap(trasa)\n",
    "    odl_new = Odleglosc(distance,trasa_new)\n",
    "    if odl_new < odl:\n",
    "        return trasa_new, odl_new\n",
    "    return trasa, odl, trasa_new, odl_new\n",
    "\n",
    "#ruch polegający na insercji, sprawdzenie sąsiadów, zwrot mniejszej trasy\n",
    "def Ruch_insercja(distance,trasa):\n",
    "    odl = Odleglosc(distance,trasa)\n",
    "    trasa_new = Insercja(trasa)\n",
    "    odl_new = Odleglosc(distance,trasa_new)\n",
    "    if odl_new < odl:\n",
    "        return trasa_new, odl_new\n",
    "    return trasa, odl\n",
    "\n",
    "#ruch polegający na zamianie, sprawdzenie sąsiadów, zwrot mniejszej trasy\n",
    "def Ruch_zamiana(distance,trasa):\n",
    "    odl = Odleglosc(distance,trasa)\n",
    "    trasa_new = Zamiana(trasa)\n",
    "    odl_new = Odleglosc(distance,trasa_new)\n",
    "    if odl_new < odl:\n",
    "        return trasa_new, odl_new  \n",
    "    return trasa, odl"
   ]
  },
  {
   "cell_type": "code",
   "execution_count": 33,
   "metadata": {},
   "outputs": [
    {
     "data": {
      "text/plain": [
       "array([[   0, 1495,  381, ...,  488,  753, 1184],\n",
       "       [1495,    0, 1135, ..., 1727, 1388,  661],\n",
       "       [ 381, 1135,    0, ...,  640,  591,  810],\n",
       "       ...,\n",
       "       [ 488, 1727,  640, ...,    0,  520, 1242],\n",
       "       [ 753, 1388,  591, ...,  520,    0,  801],\n",
       "       [1184,  661,  810, ..., 1242,  801,    0]], dtype=int64)"
      ]
     },
     "execution_count": 33,
     "metadata": {},
     "output_type": "execute_result"
    }
   ],
   "source": [
    "distance = pd.read_excel(\"Dane_TSP_48.xlsx\")\n",
    "distance = distance.to_numpy()\n",
    "distance = np.delete(distance,0,1)\n",
    "distance"
   ]
  },
  {
   "cell_type": "code",
   "execution_count": 34,
   "metadata": {},
   "outputs": [
    {
     "data": {
      "text/plain": [
       "[(55,\n",
       "  array([23,  9,  3, 25, 34, 44, 31, 21, 15, 40, 28,  1, 41,  4, 47, 10, 11,\n",
       "         27, 26, 18, 42, 16, 36, 45, 14, 39, 13, 12, 24, 38, 20, 46, 32, 19,\n",
       "         30, 43, 17,  6,  5, 29, 35, 37,  8,  0,  7,  2, 22, 33]),\n",
       "  16516),\n",
       " (9,\n",
       "  array([42, 20, 31, 38, 24, 13, 23, 47, 41,  9, 34, 44,  3, 25,  4, 22, 12,\n",
       "         10, 21,  2, 15,  7, 37, 30, 14, 32, 39,  0, 40, 28,  1, 33, 46, 19,\n",
       "         11,  8, 45, 17, 29, 26, 18, 36,  5, 27,  6, 43, 35, 16]),\n",
       "  16844),\n",
       " (23,\n",
       "  array([35, 36, 16, 42, 29,  6, 17, 30, 43, 45, 32, 31, 12, 38, 34, 44,  3,\n",
       "          1, 28, 33,  4, 23,  9, 25, 41, 47, 24, 13, 22, 20, 46, 19, 11, 18,\n",
       "         26,  5, 27, 37,  8,  7, 15, 40, 21,  2, 10,  0, 39, 14]),\n",
       "  16898),\n",
       " (87,\n",
       "  array([43, 30, 40, 28,  1,  4, 38, 31, 44, 34,  3, 25, 10, 39, 11, 14, 45,\n",
       "         37,  8, 19, 46, 20, 12, 24,  9, 23, 41, 47, 33, 21,  7, 15,  0,  2,\n",
       "         13, 22, 32, 35,  5, 36, 18, 16, 26, 42, 29, 27, 17,  6]),\n",
       "  16917),\n",
       " (98,\n",
       "  array([43, 30, 37,  6,  7,  0,  1, 28,  4, 41, 23,  9, 25,  3, 34, 44, 31,\n",
       "         38, 47, 24, 13, 46, 14, 35, 27, 36, 18,  5, 29,  8, 39, 33, 40, 21,\n",
       "         15,  2, 22, 10, 11, 32, 45, 17, 19, 12, 20, 42, 16, 26]),\n",
       "  17019),\n",
       " (59,\n",
       "  array([19, 11, 32, 14,  8, 13,  4, 41, 23,  9,  1, 28, 40, 15, 21,  0,  7,\n",
       "         37, 45,  5, 36, 18, 16, 29, 26, 42,  6, 35, 27, 17, 46, 12, 10, 43,\n",
       "         30, 39,  2, 38, 24, 22, 33, 47, 44, 34,  3, 25, 31, 20]),\n",
       "  17088),\n",
       " (19,\n",
       "  array([31, 29, 18, 36,  6, 17,  5, 27, 35, 19, 14, 32, 11, 10, 39,  8,  7,\n",
       "         30, 37, 43, 26, 16, 42, 45,  0, 15,  2, 22, 13, 24, 38, 23, 44, 34,\n",
       "          9, 41, 47, 20, 12, 46, 21, 40,  4, 33, 28,  1,  3, 25]),\n",
       "  17324),\n",
       " (97,\n",
       "  array([44, 34,  9, 31, 20, 38, 13, 24, 41,  3, 25,  1, 21, 45,  6, 17, 43,\n",
       "         30, 37,  0, 39, 14, 19, 11, 32, 46, 10,  2, 40, 33, 28, 47,  4, 22,\n",
       "         15,  7,  8, 29, 42, 16, 26, 18, 36,  5, 27, 35, 12, 23]),\n",
       "  17465),\n",
       " (15,\n",
       "  array([ 0,  7, 37, 43, 17, 35, 27,  4, 47, 28, 33, 22, 39, 14, 11,  2, 15,\n",
       "         21, 24, 13,  8, 30, 36, 16, 29, 45, 32, 12, 10,  6, 42, 26, 18,  5,\n",
       "         19, 46, 20, 38, 31, 23, 44, 34,  9,  3, 25, 41,  1, 40]),\n",
       "  17526),\n",
       " (0,\n",
       "  array([38, 23, 44, 34,  9, 31, 43, 42, 26,  5, 16, 29, 18, 36, 30, 37,  7,\n",
       "          0, 10, 12, 20, 46, 11, 32, 39,  8, 14, 19, 45, 35, 27,  6, 17, 21,\n",
       "         40,  1, 28,  3, 25, 41, 13, 22,  2, 15, 33,  4, 47, 24]),\n",
       "  17565)]"
      ]
     },
     "execution_count": 34,
     "metadata": {},
     "output_type": "execute_result"
    }
   ],
   "source": [
    "def IHC(distance, ruch, n_iter_ruch, n_iter):  # ruch = {Swap, Insercja, Zamiana}\n",
    "    min_iter = []\n",
    "    for i in range(n_iter):\n",
    "        trasa = np.arange(len(distance))\n",
    "        np.random.shuffle(trasa)\n",
    "        odl = Odleglosc(distance,trasa)\n",
    "        for j in range(n_iter_ruch):\n",
    "                trasa_new = ruch(trasa)\n",
    "                odl_new = Odleglosc(distance,trasa_new)\n",
    "                if odl_new < odl:\n",
    "                    odl = odl_new\n",
    "                    trasa = trasa_new\n",
    "        min_iter.append((i,trasa,odl))\n",
    "    return min_iter\n",
    "wynik = IHC(distance,Swap,1000,100)\n",
    "wynik.sort(key=lambda x: x[2])\n",
    "wynik[0:10]\n",
    "\n"
   ]
  },
  {
   "cell_type": "code",
   "execution_count": 35,
   "metadata": {},
   "outputs": [],
   "source": [
    "def Geometric(T,alpha):\n",
    "    return alpha*T\n",
    "\n",
    "def Slow(T,alpha):\n",
    "    return T/(1+alpha*T)\n"
   ]
  },
  {
   "cell_type": "code",
   "execution_count": 36,
   "metadata": {},
   "outputs": [
    {
     "data": {
      "text/plain": [
       "[(34,\n",
       "  array([43, 30, 17,  6, 35, 32, 46, 24,  4, 13,  2, 15, 21, 40, 33,  1, 28,\n",
       "         38, 23,  9, 25,  3, 44, 34, 41, 47, 12, 20, 31, 29, 26, 16, 42, 18,\n",
       "          5, 36, 27, 45, 19, 10, 11, 14, 22, 39,  0,  7,  8, 37]),\n",
       "  15938),\n",
       " (74,\n",
       "  array([29,  6, 11, 31, 38, 47, 23,  9, 25,  3, 34, 44, 41, 12, 20, 46, 10,\n",
       "         45, 17, 27,  5, 43, 37,  8, 28,  1,  4, 33,  2, 22, 24, 13, 40, 15,\n",
       "         21, 30, 19, 32, 14,  7,  0, 39, 35, 18, 36, 26, 16, 42]),\n",
       "  17190),\n",
       " (63,\n",
       "  array([30, 36,  5, 16, 42, 46, 20, 12, 33, 40, 19, 26, 18,  7,  0, 15,  2,\n",
       "         22, 21, 39, 35, 27, 29, 45, 32, 14, 11, 31, 23,  9, 41, 44, 34,  3,\n",
       "         25,  1, 28, 47,  4, 38, 24, 13, 10, 17,  6, 43,  8, 37]),\n",
       "  17490),\n",
       " (37,\n",
       "  array([21, 33, 28, 23, 44,  9, 41,  4, 11, 39, 45, 14,  8,  7, 13, 24, 22,\n",
       "         10, 32, 29, 26, 18, 36,  5, 27, 35, 17, 43, 37,  0,  2, 15, 40,  1,\n",
       "          3, 25, 34, 47, 38, 31, 12, 46, 20, 19, 42, 16,  6, 30]),\n",
       "  17531),\n",
       " (12,\n",
       "  array([23, 41, 47,  4, 24, 14, 37, 30, 43, 35, 29, 17, 45, 46, 32,  6, 27,\n",
       "          5, 18, 16, 42, 26, 36,  7,  0, 33, 28,  1,  9, 25,  3, 44, 34, 38,\n",
       "         12,  8, 15, 40,  2, 39, 21, 10, 19, 11, 22, 13, 20, 31]),\n",
       "  17610),\n",
       " (81,\n",
       "  array([27, 17,  7,  0, 21, 15,  2, 12, 46, 19, 32, 37, 45, 14,  8, 30, 43,\n",
       "          5, 36, 18, 29, 35, 47, 41, 25,  3,  9, 31, 38, 20, 11, 22, 24, 13,\n",
       "         33, 40, 28,  1, 34, 44, 23,  4, 39, 10,  6, 42, 16, 26]),\n",
       "  17636),\n",
       " (45,\n",
       "  array([39,  0,  7, 37, 43, 17, 27, 36, 29, 35, 45, 11, 14, 22,  2, 33, 28,\n",
       "         41, 23, 31, 38, 25,  3,  4, 46, 42, 26, 16,  5, 18,  6, 30,  8, 15,\n",
       "         21, 40,  1, 34, 44,  9, 47, 20, 19, 32, 10, 13, 24, 12]),\n",
       "  17690),\n",
       " (26,\n",
       "  array([ 7, 40, 33, 13, 12, 20, 46, 32,  6, 17, 29, 26, 42, 16, 37, 22,  4,\n",
       "          1, 28, 21, 15,  0, 39, 10, 38, 31, 47,  9, 23, 41, 44, 34, 25,  3,\n",
       "         24,  2, 45, 30, 43, 18, 36,  5, 27, 35, 19, 11, 14,  8]),\n",
       "  17712),\n",
       " (30,\n",
       "  array([18, 16, 26, 36, 11, 12, 24, 38, 25,  3, 47, 28, 41,  4,  1, 23, 34,\n",
       "         44,  9, 31, 20, 46, 19, 43, 10, 22, 13, 21, 15,  0,  8, 37,  7, 30,\n",
       "         32, 39,  2, 40, 33, 14, 45, 17, 42,  6, 27, 29, 35,  5]),\n",
       "  17894),\n",
       " (7,\n",
       "  array([35, 17, 43, 45, 39,  8, 27, 36, 18, 26,  5, 29, 46, 20, 24, 13,  2,\n",
       "         21,  0, 15, 41, 25, 44, 34,  3, 33, 10, 16, 42, 19, 14, 32, 11, 22,\n",
       "         12, 38, 31, 23,  9, 47,  4,  1, 28, 40,  7, 37, 30,  6]),\n",
       "  17927)]"
      ]
     },
     "execution_count": 36,
     "metadata": {},
     "output_type": "execute_result"
    }
   ],
   "source": [
    "def SA(distance, ruch, n_iter_ruch, n_iter, T_start, cooling, alpha):  # ruch = {Swap, Insercja, Zamiana}, cooling = {Geometric, Slow}, alpha = cooling param \n",
    "    min_iter = []\n",
    "    for i in range(n_iter):\n",
    "        T = T_start\n",
    "        trasa = np.arange(len(distance))\n",
    "        np.random.shuffle(trasa)\n",
    "        odl = Odleglosc(distance,trasa)\n",
    "        for j in range(n_iter_ruch):\n",
    "                trasa_new = ruch(trasa)\n",
    "                odl_new = Odleglosc(distance,trasa_new)\n",
    "                diff_odl = odl_new - odl\n",
    "                if diff_odl < 0:\n",
    "                    odl = odl_new\n",
    "                    trasa = trasa_new\n",
    "                elif random.random() < math.exp(-diff_odl/T):\n",
    "                    odl = odl_new\n",
    "                    trasa = trasa_new\n",
    "                T = cooling(T,alpha)\n",
    "        min_iter.append((i,trasa,odl))\n",
    "    return min_iter\n",
    "wynik = SA(distance,Swap,1000,100,100,Slow,0.1)\n",
    "wynik.sort(key=lambda x: x[2])\n",
    "wynik[0:10]"
   ]
  },
  {
   "cell_type": "code",
   "execution_count": 37,
   "metadata": {},
   "outputs": [
    {
     "data": {
      "text/plain": [
       "[(11,\n",
       "  array([40,  1, 28, 41,  4, 47, 31, 23, 44,  9, 34,  3, 25, 33,  2, 13, 22,\n",
       "         12, 20, 38, 24, 10, 11, 19, 46, 14, 37,  8,  7,  0, 39, 32, 35,  6,\n",
       "          5, 18, 16, 36, 17, 43, 26, 42, 29, 27, 45, 30, 21, 15]),\n",
       "  15490),\n",
       " (93,\n",
       "  array([ 0,  2, 13, 38, 47, 31, 20, 19, 35, 27,  6, 30, 37,  8, 45, 29, 26,\n",
       "         42, 16, 18, 36,  5, 17, 32, 43, 14, 39, 10, 22,  7, 15, 40, 41, 44,\n",
       "         34,  1,  3, 25,  9, 23,  4, 28, 33, 24, 12, 46, 11, 21]),\n",
       "  16549),\n",
       " (47,\n",
       "  array([ 3,  1, 40,  2, 22, 28,  4, 13, 24, 20, 31, 44, 34, 41, 38, 12, 29,\n",
       "         36, 35, 27,  5, 18, 26, 16, 42, 45,  8,  7,  0, 21, 15, 10, 46, 19,\n",
       "         11, 14, 32, 17,  6, 43, 30, 37, 39, 33, 47, 23,  9, 25]),\n",
       "  16665),\n",
       " (43,\n",
       "  array([42, 18, 36,  5, 22,  2, 12, 24, 14, 45, 30, 37, 39, 11, 32, 35,  6,\n",
       "         43, 46, 10, 13, 33, 40, 15, 21,  0,  7,  8, 28, 41, 25,  3,  1,  4,\n",
       "         47, 38, 31, 23, 44, 34,  9, 20, 19, 16, 26, 27, 17, 29]),\n",
       "  16761),\n",
       " (19,\n",
       "  array([18, 26, 16, 42, 29,  6, 43, 45, 14, 39,  7, 37, 30, 17,  8, 15, 40,\n",
       "         33, 24,  1, 28, 25, 41, 31, 34, 44,  3,  9, 23, 20, 12, 46, 10, 22,\n",
       "         13, 21,  0,  2, 38, 47,  4, 11, 19, 32, 35, 27,  5, 36]),\n",
       "  17041),\n",
       " (60,\n",
       "  array([ 1, 47, 24,  7, 36,  5, 45, 14,  8,  0, 21, 15, 40, 33, 38, 31, 12,\n",
       "         10, 46,  4, 28, 13, 22,  2, 37, 30, 43, 17, 27,  6, 39, 11, 19, 32,\n",
       "         35, 29, 42, 16, 18, 26, 20, 23, 44, 34,  9, 41, 25,  3]),\n",
       "  17558),\n",
       " (14,\n",
       "  array([46, 24, 13, 47, 23, 34, 44,  9, 41, 20, 31, 38,  4, 28, 33, 14, 39,\n",
       "         21, 15, 40,  1,  3, 25, 12, 10, 19, 36,  5, 17, 43,  6, 26, 16, 42,\n",
       "         45,  0,  7,  8, 11, 32, 35, 27, 18, 29, 30, 37,  2, 22]),\n",
       "  17771),\n",
       " (91,\n",
       "  array([13, 33,  2, 39, 11, 32, 30, 37, 43, 45,  8,  7, 15, 21,  0, 17, 18,\n",
       "         36, 26, 16, 42, 19, 20, 38, 47,  4, 46, 35,  6, 29,  5, 27, 31, 44,\n",
       "          1, 25,  3, 34,  9, 23, 41, 28, 40, 24, 12, 10, 14, 22]),\n",
       "  17987),\n",
       " (97,\n",
       "  array([30, 36,  5, 24,  4, 28,  1, 25,  3, 44, 34, 41, 22, 10, 11, 46, 32,\n",
       "         39, 14, 45, 35, 27,  6, 18, 26, 16, 42, 29, 19, 12, 38, 31, 20, 17,\n",
       "         43, 37, 40, 33,  9, 23, 47, 13,  2, 21, 15,  0,  7,  8]),\n",
       "  18004),\n",
       " (12,\n",
       "  array([30, 17, 32, 46, 38,  4, 47,  3, 25, 41,  1,  2, 15, 21, 37, 36, 18,\n",
       "         26,  5, 27, 35,  6, 43, 45,  8,  7,  0, 14, 13, 24, 33, 28, 40, 22,\n",
       "         10, 11, 39, 12,  9, 34, 44, 23, 31, 20, 19, 29, 42, 16]),\n",
       "  18052)]"
      ]
     },
     "execution_count": 37,
     "metadata": {},
     "output_type": "execute_result"
    }
   ],
   "source": [
    "# wersja SA gdzie warunkiem stopu jest temperatura a nie liczba iteracji \n",
    "# (chyba lepiej tak bo upewniamy sie ze temperatura jest niska a podajac liczbe iteracji mozemy skonczyc na wysokiej temperaturze)\n",
    "# mozna tez dodac warunek stopu ze po np 100 iteracjach bez poprawy rozwiazania to koniec\n",
    "\n",
    "def SA(distance, ruch, n_iter, T_start, T_stop, cooling, alpha):  # ruch = {Swap, Insercja, Zamiana}, cooling = {Geometric, Slow}, alpha = cooling param \n",
    "    min_iter = []\n",
    "    for i in range(n_iter):\n",
    "        T = T_start\n",
    "        trasa = np.arange(len(distance))\n",
    "        np.random.shuffle(trasa)\n",
    "        odl = Odleglosc(distance,trasa)\n",
    "        while(T > T_stop):\n",
    "                trasa_new = ruch(trasa)\n",
    "                odl_new = Odleglosc(distance,trasa_new)\n",
    "                diff_odl = odl_new - odl\n",
    "                if diff_odl < 0:\n",
    "                    odl = odl_new\n",
    "                    trasa = trasa_new\n",
    "                elif random.random() < math.exp(-diff_odl/T):\n",
    "                    odl = odl_new\n",
    "                    trasa = trasa_new\n",
    "                T = cooling(T,alpha)\n",
    "        min_iter.append((i,trasa,odl))\n",
    "    return min_iter\n",
    "wynik = SA(distance,Swap,100,100,0.01,Slow,0.1)\n",
    "wynik.sort(key=lambda x: x[2])\n",
    "wynik[0:10]"
   ]
  },
  {
   "cell_type": "code",
   "execution_count": 38,
   "metadata": {},
   "outputs": [
    {
     "name": "stdout",
     "output_type": "stream",
     "text": [
      "1000\n"
     ]
    },
    {
     "data": {
      "text/plain": [
       "0.09990009990009993"
      ]
     },
     "execution_count": 38,
     "metadata": {},
     "output_type": "execute_result"
    }
   ],
   "source": [
    "# funkcje pomocnicze do sprawdzenia ile iteracji odpowiada parametrowi T_stop\n",
    "def T_stopToIter(T_start, T_stop, cooling, alpha):\n",
    "    T = T_start\n",
    "    i = 0\n",
    "    while(T > T_stop):\n",
    "        T = cooling(T,alpha)\n",
    "        i += 1\n",
    "    return i\n",
    "def IterToT_stop(T_start, n_iter, cooling, alpha):\n",
    "    T = T_start\n",
    "    for i in range(n_iter):\n",
    "        T = cooling(T,alpha)\n",
    "    return T\n",
    "print(T_stopToIter(100,0.01,Slow,0.1))\n",
    "IterToT_stop(100,100,Slow,0.1)"
   ]
  },
  {
   "cell_type": "code",
   "execution_count": 39,
   "metadata": {},
   "outputs": [],
   "source": [
    "# #algorytm ze swapem\n",
    "# trasa = np.arange(len(distance))\n",
    "# np.random.shuffle(trasa)\n",
    "# licza_iteracji = 5\n",
    "\n",
    "# print(\"Start\")\n",
    "# print(trasa)\n",
    "# print(Odleglosc(distance,trasa))\n",
    "# for i in range(licza_iteracji):\n",
    "#     print(\"\\n{} iteracja\".format(i+1))\n",
    "#     trasa = Ruch_swap(distance,trasa)\n",
    "#     print(trasa)\n",
    "#     print(Odleglosc(distance,trasa))\n"
   ]
  },
  {
   "cell_type": "code",
   "execution_count": 40,
   "metadata": {},
   "outputs": [],
   "source": [
    "# #algorytm z insercją\n",
    "# trasa = np.arange(len(distance))\n",
    "# np.random.shuffle(trasa)\n",
    "# licza_iteracji = 5\n",
    "\n",
    "# print(\"Start\")\n",
    "# print(trasa)\n",
    "# print(Odleglosc(distance,trasa))\n",
    "# for i in range(licza_iteracji):\n",
    "#     print(\"\\n{} iteracja\".format(i+1))\n",
    "#     trasa = Ruch_insercja(distance,trasa)\n",
    "#     print(trasa)\n",
    "#     print(Odleglosc(distance,trasa))"
   ]
  },
  {
   "cell_type": "code",
   "execution_count": 41,
   "metadata": {},
   "outputs": [],
   "source": [
    "# #algorytm z zamianą\n",
    "# trasa = np.arange(len(distance))\n",
    "# np.random.shuffle(trasa)\n",
    "# licza_iteracji = 1000\n",
    "\n",
    "# print(\"Start\")\n",
    "# print(trasa)\n",
    "# print(Odleglosc(distance,trasa))\n",
    "# for i in range(licza_iteracji):\n",
    "#     print(\"\\n{} iteracja\".format(i+1))\n",
    "#     trasa = Ruch_zamiana(distance,trasa)\n",
    "#     print(trasa)\n",
    "#     print(Odleglosc(distance,trasa))"
   ]
  },
  {
   "cell_type": "code",
   "execution_count": 137,
   "metadata": {},
   "outputs": [
    {
     "data": {
      "text/plain": [
       "[(13251,\n",
       "  array([ 8,  0,  7, 37, 30, 45, 14, 39, 11, 32, 43, 17,  6, 35, 27,  5, 29,\n",
       "         36, 18, 26, 42, 16, 19, 10, 22,  2, 21, 15, 40, 33, 13, 12, 46, 20,\n",
       "         24, 38, 31, 47,  4, 28,  1, 41, 23,  9, 25,  3, 34, 44])),\n",
       " (13251,\n",
       "  array([ 8,  0,  7, 37, 30, 45, 14, 39, 11, 32, 43, 17,  6, 35, 27,  5, 29,\n",
       "         36, 18, 26, 42, 16, 19, 10, 22,  2, 21, 15, 40, 33, 13, 12, 46, 20,\n",
       "         24, 38, 31, 47,  4, 28,  1, 41, 23,  9, 25,  3, 34, 44])),\n",
       " (13251,\n",
       "  array([ 8,  0,  7, 37, 30, 45, 14, 39, 11, 32, 43, 17,  6, 35, 27,  5, 29,\n",
       "         36, 18, 26, 42, 16, 19, 10, 22,  2, 21, 15, 40, 33, 13, 12, 46, 20,\n",
       "         24, 38, 31, 47,  4, 28,  1, 41, 23,  9, 25,  3, 34, 44])),\n",
       " (13414,\n",
       "  array([44, 34,  9, 23, 41, 25,  3,  1, 28,  4, 47, 38, 31, 24, 13, 12, 20,\n",
       "         46, 10, 22, 33,  2, 21, 15, 40, 39, 11, 19, 32, 14, 45,  8,  0,  7,\n",
       "         37, 30, 43, 17, 35,  6, 27, 29, 42, 26,  5, 36, 18, 16])),\n",
       " (13414,\n",
       "  array([44, 34,  9, 23, 41, 25,  3,  1, 28,  4, 47, 38, 31, 24, 13, 12, 20,\n",
       "         46, 10, 22, 33,  2, 21, 15, 40, 39, 11, 19, 32, 14, 45,  8,  0,  7,\n",
       "         37, 30, 43, 17, 35,  6, 27, 29, 42, 26,  5, 36, 18, 16])),\n",
       " (13454,\n",
       "  array([20, 46, 12, 24, 13, 22, 10, 11, 19, 32, 14, 39,  2, 33, 38, 31, 47,\n",
       "          4, 28, 41, 23,  9, 25,  3, 34, 44,  1, 40, 21, 15,  0,  8, 45, 35,\n",
       "         17,  6, 27, 29,  5, 36, 18, 26, 42, 16, 43, 30, 37,  7])),\n",
       " (13454,\n",
       "  array([20, 46, 12, 24, 13, 22, 10, 11, 19, 32, 14, 39,  2, 33, 38, 31, 47,\n",
       "          4, 28, 41, 23,  9, 25,  3, 34, 44,  1, 40, 21, 15,  0,  8, 45, 35,\n",
       "         17,  6, 27, 29,  5, 36, 18, 26, 42, 16, 43, 30, 37,  7])),\n",
       " (13454,\n",
       "  array([20, 46, 12, 24, 13, 22, 10, 11, 19, 32, 14, 39,  2, 33, 38, 31, 47,\n",
       "          4, 28, 41, 23,  9, 25,  3, 34, 44,  1, 40, 21, 15,  0,  8, 45, 35,\n",
       "         17,  6, 27, 29,  5, 36, 18, 26, 42, 16, 43, 30, 37,  7])),\n",
       " (13525,\n",
       "  array([41,  9, 23, 47,  4, 28,  1, 25,  3, 34, 44, 31, 38, 24, 13, 33, 12,\n",
       "         20, 46, 10, 22,  2, 40, 15, 21, 39, 11, 14, 32, 19, 45,  8,  0,  7,\n",
       "         37, 30, 43, 17, 35,  6, 27, 29,  5, 36, 18, 26, 42, 16])),\n",
       " (13525,\n",
       "  array([41,  9, 23, 47,  4, 28,  1, 25,  3, 34, 44, 31, 38, 24, 13, 33, 12,\n",
       "         20, 46, 10, 22,  2, 40, 15, 21, 39, 11, 14, 32, 19, 45,  8,  0,  7,\n",
       "         37, 30, 43, 17, 35,  6, 27, 29,  5, 36, 18, 26, 42, 16]))]"
      ]
     },
     "execution_count": 137,
     "metadata": {},
     "output_type": "execute_result"
    }
   ],
   "source": [
    "#NN\n",
    "min_odl = []\n",
    "for n in range(100):\n",
    "    potencjalne = np.arange(len(distance))\n",
    "    trasa = np.zeros(len(distance),dtype=int)\n",
    "    trasa[0] = np.random.choice(potencjalne,1)\n",
    "    potencjalne = np.delete(potencjalne,int(trasa[0]))\n",
    "\n",
    "    for cur in range(1,len(trasa)):\n",
    "        odleglosci = []\n",
    "        for i in range(len(potencjalne)):\n",
    "            trasa[cur] = potencjalne[i]\n",
    "            odleglosci.append((potencjalne[i],Odleglosc(distance,trasa[0:cur+1])))\n",
    "        odleglosci.sort(key=lambda x: x[1])\n",
    "        trasa[cur] = odleglosci[0][0]\n",
    "        potencjalne = np.delete(potencjalne,potencjalne==trasa[cur])\n",
    "    min_odl.append((Odleglosc(distance,trasa),trasa))\n",
    "    \n",
    "min_odl.sort(key=lambda x:x[0])\n",
    "min_odl[:10]"
   ]
  }
 ],
 "metadata": {
  "kernelspec": {
   "display_name": "base",
   "language": "python",
   "name": "python3"
  },
  "language_info": {
   "codemirror_mode": {
    "name": "ipython",
    "version": 3
   },
   "file_extension": ".py",
   "mimetype": "text/x-python",
   "name": "python",
   "nbconvert_exporter": "python",
   "pygments_lexer": "ipython3",
   "version": "3.11.5"
  }
 },
 "nbformat": 4,
 "nbformat_minor": 2
}
