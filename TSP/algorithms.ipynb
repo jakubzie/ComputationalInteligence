{
 "cells": [
  {
   "cell_type": "markdown",
   "metadata": {},
   "source": [
    "Rodzaje ruchu:\\\n",
    "Swap - losujemy dwa miasta i zamieniamy je ze sobą.\\\n",
    "Insercja - losujemy miasto i punkt w którym je umieszczamy.\\\n",
    "Zamiana kolejności - losujemy dwa punkty i między nimi zamieniamy kolejność.\\\n",
    "\\\n",
    "Sąsiedztwo to dwa przypadki które różnią się między sobą jednym ruchem\\\n",
    "\\\n",
    "Klasyczny algorytm wspinaczki z multistartem: po każdym ruchu liczymy drogę i sprawdzamy czy jest mniejsza czy nie, wybieramy tylko lepsze opcje. Multistart polega na wielokrotnym odpaleniu algorytmu z losowaniem punktu startowego.\\\n",
    "\\\n",
    "Algorytm symulowanego wyżarzania: zmodyfikowany algorytm wspinaczki, jeśli znalezione rozwiązanie jest gorsze to nadal je rozważamy, na podstawie tego jak bardzo jest gorsze oraz od temperatury.\\\n",
    "Temperatura jest wysoka na początku działania algorytmu i spada razem z czasem wykonywania algorytmu, im niższa temperatura tym mniejsze prawdopodobieństwo wybrania gorszego rozwiązania, bo algorytm już trochę działa i zakładamy że jest w lepszym miejscu niż na początku.\\\n",
    "Pozwala on nam wyjść z niektórych ekstremów lokalnych dzięki możliwości przyjęcia gorszego rozwiązania.\\\n",
    "\\\n",
    "Tabu search:\\\n",
    "Sąsiedztwo wygląda tutaj inaczej: przy swapie losujemy jedną liczbę i zamieniamy wszystkie kombinacje z tą liczbą, ze wszystkich kombinacji wybieramy najlepszą.\\\n",
    "Następnie taka kombinacja trafia na listę tabu, czyli takiej samej zamiany nie można wykonać przez określoną kolejną liczbę ruchów.\\\n",
    "\\\n",
    "Funkcja aspiracji to funkcja, która pod pewnymi warunkami pozwala wykonać ruch z listy tabu ale nie trzeba tego implementować.\\\n",
    "\\\n",
    "Odpowiednia długość listy tabu pozwala wyjść z niektórych ekstremów lokalnych, jeśli będzie za krótka to możemy nie wyjść z ekstremum lokalnego, jeśli będzie za długa to możemy wyjść z ekstremum niepotrzebnie.\n"
   ]
  },
  {
   "cell_type": "code",
   "execution_count": 326,
   "metadata": {},
   "outputs": [],
   "source": [
    "import numpy as np\n",
    "import math"
   ]
  },
  {
   "cell_type": "code",
   "execution_count": 187,
   "metadata": {},
   "outputs": [],
   "source": [
    "#wspinaczka z multistartem\n",
    "distance = np.array([[0,2,4,1,5],\n",
    "                    [2,0,3,8,7],\n",
    "                    [4,3,0,5,1],\n",
    "                    [1,8,5,0,3],\n",
    "                    [5,7,1,3,0]])"
   ]
  },
  {
   "cell_type": "code",
   "execution_count": 180,
   "metadata": {},
   "outputs": [],
   "source": [
    "def Odleglosc(distance, trasa):\n",
    "    suma = 0\n",
    "    for i in range(len(trasa)):\n",
    "        if i+1 < len(trasa):\n",
    "            suma += distance[trasa[i]][trasa[i+1]]\n",
    "        else:\n",
    "            suma += distance[trasa[0]][trasa[i]]\n",
    "    return suma"
   ]
  },
  {
   "cell_type": "code",
   "execution_count": 335,
   "metadata": {},
   "outputs": [],
   "source": [
    "#swap\n",
    "def Swap(trasa):\n",
    "    trasa_temp = trasa.copy()\n",
    "    #print(trasa)\n",
    "    swap = np.random.choice(trasa_temp,2,replace=False)\n",
    "    temp = trasa_temp[swap[0]]\n",
    "    trasa_temp[swap[0]] = trasa_temp[swap[1]]\n",
    "    trasa_temp[swap[1]] = temp\n",
    "    #print(swap)\n",
    "    #print(trasa)\n",
    "    return trasa_temp\n",
    "\n",
    "#insercja\n",
    "def Insercja(trasa):\n",
    "    trasa_temp = trasa.copy()\n",
    "    insercja = np.random.choice(trasa_temp,2,replace=False)\n",
    "    #print(trasa_temp)\n",
    "    #print(insercja)\n",
    "    temp = trasa_temp[insercja[0]]\n",
    "    trasa_temp = np.delete(trasa_temp,insercja[0])\n",
    "    trasa_temp = np.insert(trasa_temp,insercja[1],temp)\n",
    "    #print(trasa_temp)\n",
    "    return trasa_temp\n",
    "\n",
    "def Zamiana(trasa):\n",
    "    trasa_temp = trasa.copy()\n",
    "    zamiana = np.random.choice(trasa_temp,2,replace=False)\n",
    "    zamiana.sort()\n",
    "    #print(trasa_temp)\n",
    "    #print(zamiana)\n",
    "    for i in range(math.ceil((zamiana[1]-zamiana[0])/2)):\n",
    "        temp = trasa_temp[zamiana[1]]\n",
    "        trasa_temp[zamiana[1]] = trasa_temp[zamiana[0]]\n",
    "        trasa_temp[zamiana[0]] = temp\n",
    "        zamiana[1] -= 1\n",
    "        zamiana[0] += 1\n",
    "    #print(trasa_temp)\n",
    "    return trasa_temp"
   ]
  },
  {
   "cell_type": "code",
   "execution_count": 339,
   "metadata": {},
   "outputs": [],
   "source": [
    "#Zamiana(trasa)"
   ]
  },
  {
   "cell_type": "code",
   "execution_count": 338,
   "metadata": {},
   "outputs": [],
   "source": [
    "#trasa = np.arange(len(distance))\n",
    "#np.random.shuffle(trasa)\n",
    "#Insercja(trasa)"
   ]
  },
  {
   "cell_type": "code",
   "execution_count": 268,
   "metadata": {},
   "outputs": [],
   "source": [
    "#temp = trasa[0] #temp = 4\n",
    "#trasa = np.delete(trasa,0)\n",
    "#trasa = np.insert(trasa,4,3)"
   ]
  },
  {
   "cell_type": "code",
   "execution_count": 340,
   "metadata": {},
   "outputs": [],
   "source": [
    "#ruch polegający na swapie, sprawdzenie sąsiadów, zwrot mniejszej trasy\n",
    "def Ruch_swap(distance,trasa):\n",
    "    odl = Odleglosc(distance,trasa)\n",
    "    trasa_new = Swap(trasa)\n",
    "    odl_new = Odleglosc(distance,trasa_new)\n",
    "    if odl_new < odl:\n",
    "        trasa = trasa_new\n",
    "    else:\n",
    "        print(\"nowa trasa jest dluzsza lub rowna\")\n",
    "    return trasa\n",
    "\n",
    "#ruch polegający na insercji, sprawdzenie sąsiadów, zwrot mniejszej trasy\n",
    "def Ruch_insercja(distance,trasa):\n",
    "    odl = Odleglosc(distance,trasa)\n",
    "    trasa_new = Insercja(trasa)\n",
    "    odl_new = Odleglosc(distance,trasa_new)\n",
    "    if odl_new < odl:\n",
    "        trasa = trasa_new\n",
    "    else:\n",
    "        print(\"nowa trasa jest dluzsza lub rowna\")\n",
    "    return trasa\n",
    "\n",
    "#ruch polegający na zamianie, sprawdzenie sąsiadów, zwrot mniejszej trasy\n",
    "def Ruch_zamiana(distance,trasa):\n",
    "    odl = Odleglosc(distance,trasa)\n",
    "    trasa_new = Zamiana(trasa)\n",
    "    odl_new = Odleglosc(distance,trasa_new)\n",
    "    if odl_new < odl:\n",
    "        trasa = trasa_new\n",
    "    else:\n",
    "        print(\"nowa trasa jest dluzsza lub rowna\")\n",
    "    return trasa"
   ]
  },
  {
   "cell_type": "code",
   "execution_count": 285,
   "metadata": {},
   "outputs": [
    {
     "name": "stdout",
     "output_type": "stream",
     "text": [
      "Start\n",
      "[3 0 4 2 1]\n",
      "18\n",
      "\n",
      "1 iteracja\n",
      "nowa trasa jest dluzsza lub rowna\n",
      "[3 0 4 2 1]\n",
      "18\n",
      "\n",
      "2 iteracja\n",
      "nowa trasa jest dluzsza lub rowna\n",
      "[3 0 4 2 1]\n",
      "18\n",
      "\n",
      "3 iteracja\n",
      "nowa trasa jest dluzsza lub rowna\n",
      "[3 0 4 2 1]\n",
      "18\n",
      "\n",
      "4 iteracja\n",
      "nowa trasa jest dluzsza lub rowna\n",
      "[3 0 4 2 1]\n",
      "18\n",
      "\n",
      "5 iteracja\n",
      "nowa trasa jest dluzsza lub rowna\n",
      "[3 0 4 2 1]\n",
      "18\n"
     ]
    }
   ],
   "source": [
    "#algorytm ze swapem\n",
    "trasa = np.arange(len(distance))\n",
    "np.random.shuffle(trasa)\n",
    "licza_iteracji = 5\n",
    "\n",
    "print(\"Start\")\n",
    "print(trasa)\n",
    "print(Odleglosc(distance,trasa))\n",
    "for i in range(licza_iteracji):\n",
    "    print(\"\\n{} iteracja\".format(i+1))\n",
    "    trasa = Ruch_swap(distance,trasa)\n",
    "    print(trasa)\n",
    "    print(Odleglosc(distance,trasa))\n"
   ]
  },
  {
   "cell_type": "code",
   "execution_count": 289,
   "metadata": {},
   "outputs": [
    {
     "name": "stdout",
     "output_type": "stream",
     "text": [
      "Start\n",
      "[4 2 3 0 1]\n",
      "16\n",
      "\n",
      "1 iteracja\n",
      "nowa trasa jest dluzsza lub rowna\n",
      "[4 2 3 0 1]\n",
      "16\n",
      "\n",
      "2 iteracja\n",
      "nowa trasa jest dluzsza lub rowna\n",
      "[4 2 3 0 1]\n",
      "16\n",
      "\n",
      "3 iteracja\n",
      "[4 3 0 1 2]\n",
      "10\n",
      "\n",
      "4 iteracja\n",
      "nowa trasa jest dluzsza lub rowna\n",
      "[4 3 0 1 2]\n",
      "10\n",
      "\n",
      "5 iteracja\n",
      "nowa trasa jest dluzsza lub rowna\n",
      "[4 3 0 1 2]\n",
      "10\n"
     ]
    }
   ],
   "source": [
    "#algorytm z insercją\n",
    "trasa = np.arange(len(distance))\n",
    "np.random.shuffle(trasa)\n",
    "licza_iteracji = 5\n",
    "\n",
    "print(\"Start\")\n",
    "print(trasa)\n",
    "print(Odleglosc(distance,trasa))\n",
    "for i in range(licza_iteracji):\n",
    "    print(\"\\n{} iteracja\".format(i+1))\n",
    "    trasa = Ruch_insercja(distance,trasa)\n",
    "    print(trasa)\n",
    "    print(Odleglosc(distance,trasa))"
   ]
  },
  {
   "cell_type": "code",
   "execution_count": 343,
   "metadata": {},
   "outputs": [
    {
     "name": "stdout",
     "output_type": "stream",
     "text": [
      "Start\n",
      "[3 2 1 4 0]\n",
      "21\n",
      "\n",
      "1 iteracja\n",
      "[1 2 3 4 0]\n",
      "18\n",
      "\n",
      "2 iteracja\n",
      "nowa trasa jest dluzsza lub rowna\n",
      "[1 2 3 4 0]\n",
      "18\n",
      "\n",
      "3 iteracja\n",
      "nowa trasa jest dluzsza lub rowna\n",
      "[1 2 3 4 0]\n",
      "18\n",
      "\n",
      "4 iteracja\n",
      "[1 2 4 3 0]\n",
      "10\n",
      "\n",
      "5 iteracja\n",
      "nowa trasa jest dluzsza lub rowna\n",
      "[1 2 4 3 0]\n",
      "10\n"
     ]
    }
   ],
   "source": [
    "#algorytm z zamianą\n",
    "trasa = np.arange(len(distance))\n",
    "np.random.shuffle(trasa)\n",
    "licza_iteracji = 5\n",
    "\n",
    "print(\"Start\")\n",
    "print(trasa)\n",
    "print(Odleglosc(distance,trasa))\n",
    "for i in range(licza_iteracji):\n",
    "    print(\"\\n{} iteracja\".format(i+1))\n",
    "    trasa = Ruch_zamiana(distance,trasa)\n",
    "    print(trasa)\n",
    "    print(Odleglosc(distance,trasa))"
   ]
  }
 ],
 "metadata": {
  "kernelspec": {
   "display_name": "base",
   "language": "python",
   "name": "python3"
  },
  "language_info": {
   "codemirror_mode": {
    "name": "ipython",
    "version": 3
   },
   "file_extension": ".py",
   "mimetype": "text/x-python",
   "name": "python",
   "nbconvert_exporter": "python",
   "pygments_lexer": "ipython3",
   "version": "3.11.5"
  }
 },
 "nbformat": 4,
 "nbformat_minor": 2
}
