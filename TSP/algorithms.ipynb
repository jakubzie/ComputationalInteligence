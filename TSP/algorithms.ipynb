{
 "cells": [
  {
   "cell_type": "markdown",
   "metadata": {},
   "source": [
    "Rodzaje ruchu:\\\n",
    "Swap - losujemy dwa miasta i zamieniamy je ze sobą.\\\n",
    "Insercja - losujemy miasto i punkt w którym je umieszczamy.\\\n",
    "Zamiana kolejności - losujemy dwa punkty i między nimi zamieniamy kolejność.\\\n",
    "\\\n",
    "Sąsiedztwo to dwa przypadki które różnią się między sobą jednym ruchem\\\n",
    "\\\n",
    "Klasyczny algorytm wspinaczki z multistartem: po każdym ruchu liczymy drogę i sprawdzamy czy jest mniejsza czy nie, wybieramy tylko lepsze opcje. Multistart polega na wielokrotnym odpaleniu algorytmu z losowaniem punktu startowego.\\\n",
    "\\\n",
    "Algorytm symulowanego wyżarzania: zmodyfikowany algorytm wspinaczki, jeśli znalezione rozwiązanie jest gorsze to nadal je rozważamy, na podstawie tego jak bardzo jest gorsze oraz od temperatury.\\\n",
    "Temperatura jest wysoka na początku działania algorytmu i spada razem z czasem wykonywania algorytmu, im niższa temperatura tym mniejsze prawdopodobieństwo wybrania gorszego rozwiązania, bo algorytm już trochę działa i zakładamy że jest w lepszym miejscu niż na początku.\\\n",
    "Pozwala on nam wyjść z niektórych ekstremów lokalnych dzięki możliwości przyjęcia gorszego rozwiązania.\\\n",
    "\\\n",
    "Tabu search:\\\n",
    "Sąsiedztwo wygląda tutaj inaczej: przy swapie losujemy jedną liczbę i zamieniamy wszystkie kombinacje z tą liczbą, ze wszystkich kombinacji wybieramy najlepszą.\\\n",
    "Następnie taka kombinacja trafia na listę tabu, czyli takiej samej zamiany nie można wykonać przez określoną kolejną liczbę ruchów.\\\n",
    "\\\n",
    "Funkcja aspiracji to funkcja, która pod pewnymi warunkami pozwala wykonać ruch z listy tabu ale nie trzeba tego implementować.\\\n",
    "\\\n",
    "Odpowiednia długość listy tabu pozwala wyjść z niektórych ekstremów lokalnych, jeśli będzie za krótka to możemy nie wyjść z ekstremum lokalnego, jeśli będzie za długa to możemy wyjść z ekstremum niepotrzebnie.\n"
   ]
  },
  {
   "cell_type": "code",
   "execution_count": 1,
   "metadata": {},
   "outputs": [],
   "source": [
    "import numpy as np\n",
    "import pandas as pd\n",
    "import math\n",
    "import random"
   ]
  },
  {
   "cell_type": "code",
   "execution_count": 2,
   "metadata": {},
   "outputs": [],
   "source": [
    "#wspinaczka z multistartem\n",
    "distance = np.array([[0,2,4,1,5],\n",
    "                    [2,0,3,8,7],\n",
    "                    [4,3,0,5,1],\n",
    "                    [1,8,5,0,3],\n",
    "                    [5,7,1,3,0]])"
   ]
  },
  {
   "cell_type": "code",
   "execution_count": 3,
   "metadata": {},
   "outputs": [],
   "source": [
    "def Odleglosc(distance, trasa):\n",
    "    suma = 0\n",
    "    n = len(trasa)\n",
    "    \n",
    "    for i, current_city in enumerate(trasa):\n",
    "        next_city = trasa[(i + 1) % n]  # Use modulo to handle the last element\n",
    "        suma += distance[current_city][next_city]\n",
    "\n",
    "    return suma"
   ]
  },
  {
   "cell_type": "code",
   "execution_count": 4,
   "metadata": {},
   "outputs": [],
   "source": [
    "#swap\n",
    "def Swap(trasa):\n",
    "    trasa_temp = trasa.copy()\n",
    "    #print(trasa)\n",
    "    swap = np.random.choice(trasa_temp,2,replace=False)\n",
    "    temp = trasa_temp[swap[0]]\n",
    "    trasa_temp[swap[0]] = trasa_temp[swap[1]]\n",
    "    trasa_temp[swap[1]] = temp\n",
    "    #print(swap)\n",
    "    #print(trasa)\n",
    "    return trasa_temp\n",
    "\n",
    "#insercja\n",
    "def Insercja(trasa):\n",
    "    trasa_temp = trasa.copy()\n",
    "    insercja = np.random.choice(trasa_temp,2,replace=False)\n",
    "    #print(trasa_temp)\n",
    "    #print(insercja)\n",
    "    temp = trasa_temp[insercja[0]]\n",
    "    trasa_temp = np.delete(trasa_temp,insercja[0])\n",
    "    trasa_temp = np.insert(trasa_temp,insercja[1],temp)\n",
    "    #print(trasa_temp)\n",
    "    return trasa_temp\n",
    "\n",
    "def Zamiana(trasa):\n",
    "    trasa_temp = trasa.copy()\n",
    "    zamiana = np.random.choice(trasa_temp,2,replace=False)\n",
    "    zamiana.sort()\n",
    "    #print(trasa_temp)\n",
    "    #print(zamiana)\n",
    "    for i in range(math.ceil((zamiana[1]-zamiana[0])/2)):\n",
    "        temp = trasa_temp[zamiana[1]]\n",
    "        trasa_temp[zamiana[1]] = trasa_temp[zamiana[0]]\n",
    "        trasa_temp[zamiana[0]] = temp\n",
    "        zamiana[1] -= 1\n",
    "        zamiana[0] += 1\n",
    "    #print(trasa_temp)\n",
    "    return trasa_temp"
   ]
  },
  {
   "cell_type": "code",
   "execution_count": 5,
   "metadata": {},
   "outputs": [],
   "source": [
    "#Zamiana(trasa)"
   ]
  },
  {
   "cell_type": "code",
   "execution_count": 6,
   "metadata": {},
   "outputs": [],
   "source": [
    "#trasa = np.arange(len(distance))\n",
    "#np.random.shuffle(trasa)\n",
    "#Insercja(trasa)"
   ]
  },
  {
   "cell_type": "code",
   "execution_count": 7,
   "metadata": {},
   "outputs": [],
   "source": [
    "#temp = trasa[0] #temp = 4\n",
    "#trasa = np.delete(trasa,0)\n",
    "#trasa = np.insert(trasa,4,3)"
   ]
  },
  {
   "cell_type": "code",
   "execution_count": 8,
   "metadata": {},
   "outputs": [],
   "source": [
    "#ruch polegający na swapie, sprawdzenie sąsiadów, zwrot mniejszej trasy\n",
    "def Ruch_swap(distance,trasa):\n",
    "    odl = Odleglosc(distance,trasa)\n",
    "    trasa_new = Swap(trasa)\n",
    "    odl_new = Odleglosc(distance,trasa_new)\n",
    "    if odl_new < odl:\n",
    "        return trasa_new, odl_new\n",
    "    return trasa, odl, trasa_new, odl_new\n",
    "\n",
    "#ruch polegający na insercji, sprawdzenie sąsiadów, zwrot mniejszej trasy\n",
    "def Ruch_insercja(distance,trasa):\n",
    "    odl = Odleglosc(distance,trasa)\n",
    "    trasa_new = Insercja(trasa)\n",
    "    odl_new = Odleglosc(distance,trasa_new)\n",
    "    if odl_new < odl:\n",
    "        return trasa_new, odl_new\n",
    "    return trasa, odl\n",
    "\n",
    "#ruch polegający na zamianie, sprawdzenie sąsiadów, zwrot mniejszej trasy\n",
    "def Ruch_zamiana(distance,trasa):\n",
    "    odl = Odleglosc(distance,trasa)\n",
    "    trasa_new = Zamiana(trasa)\n",
    "    odl_new = Odleglosc(distance,trasa_new)\n",
    "    if odl_new < odl:\n",
    "        return trasa_new, odl_new  \n",
    "    return trasa, odl"
   ]
  },
  {
   "cell_type": "code",
   "execution_count": 9,
   "metadata": {},
   "outputs": [
    {
     "data": {
      "text/plain": [
       "array([[   0, 1495,  381, ...,  488,  753, 1184],\n",
       "       [1495,    0, 1135, ..., 1727, 1388,  661],\n",
       "       [ 381, 1135,    0, ...,  640,  591,  810],\n",
       "       ...,\n",
       "       [ 488, 1727,  640, ...,    0,  520, 1242],\n",
       "       [ 753, 1388,  591, ...,  520,    0,  801],\n",
       "       [1184,  661,  810, ..., 1242,  801,    0]], dtype=int64)"
      ]
     },
     "execution_count": 9,
     "metadata": {},
     "output_type": "execute_result"
    }
   ],
   "source": [
    "distance = pd.read_excel(\"Dane_TSP_48.xlsx\")\n",
    "distance = distance.to_numpy()\n",
    "distance = np.delete(distance,0,1)\n",
    "distance"
   ]
  },
  {
   "cell_type": "code",
   "execution_count": 10,
   "metadata": {},
   "outputs": [
    {
     "data": {
      "text/plain": [
       "[(76,\n",
       "  array([36, 18, 16, 26, 29, 42,  5, 17, 37, 45, 14, 10, 22, 28,  1,  3, 25,\n",
       "         44, 34,  9, 23, 41, 47,  4, 38, 31, 20, 46, 19, 11, 13, 24, 40, 21,\n",
       "          0,  7,  8, 15,  2, 33, 12, 39, 30, 43, 35, 32, 27,  6]),\n",
       "  14563),\n",
       " (58,\n",
       "  array([ 3,  1, 41,  4, 47, 28, 22,  2, 33, 40, 15,  8,  7, 21, 13, 24, 38,\n",
       "         12, 46, 14, 37, 30, 45, 32, 19, 27,  5, 36, 18, 42, 26, 16, 29,  6,\n",
       "         35, 43, 17, 11,  0, 39, 10, 20, 31,  9, 44, 34, 23, 25]),\n",
       "  15347),\n",
       " (78,\n",
       "  array([14, 32, 35,  6, 17, 45,  8, 21,  1, 25,  3,  9, 41, 44, 34, 23, 31,\n",
       "         38, 20, 47,  4, 28, 40, 15, 22, 10, 12, 13, 24, 33,  2, 39, 27, 29,\n",
       "         42, 36, 16, 26, 18,  5,  0,  7, 37, 30, 43, 19, 46, 11]),\n",
       "  15728),\n",
       " (71,\n",
       "  array([ 1, 13, 46, 19, 32, 43,  6, 17, 35, 45, 30, 36,  5, 26, 18, 16, 42,\n",
       "         29, 27, 20,  4, 47, 24, 38, 23, 34, 44,  9, 25,  3, 28, 33, 40, 15,\n",
       "          0, 37, 14, 10, 11, 39,  8,  7, 21,  2, 22, 12, 31, 41]),\n",
       "  16129),\n",
       " (94,\n",
       "  array([ 9, 34, 44, 23, 47, 41,  1,  3, 25, 28, 40, 13, 24, 38, 31, 14, 43,\n",
       "         35, 17,  7,  8, 39, 21,  0, 15, 37, 30,  6, 36, 18, 26, 42, 16, 29,\n",
       "          5, 27, 45, 32, 19, 11,  2, 33, 22, 12, 20, 46, 10,  4]),\n",
       "  16157),\n",
       " (17,\n",
       "  array([17, 45, 14, 39, 13, 33, 47,  4, 12, 46, 10, 22,  2, 21,  8,  0, 26,\n",
       "         42, 16, 18, 36, 27, 35, 29,  5,  6, 19, 32, 11, 20, 41,  3, 25, 44,\n",
       "         34, 38, 24, 31, 23,  9,  1, 28, 40, 15,  7, 37, 30, 43]),\n",
       "  16390),\n",
       " (77,\n",
       "  array([41, 23,  9, 34, 44,  3, 25, 33,  2, 40, 28,  1,  4, 24, 46, 19, 29,\n",
       "         18, 36,  5,  6, 17, 27, 15, 21, 39, 32, 11, 20, 12, 13, 10, 22, 14,\n",
       "         43,  8,  0,  7, 37, 30, 45, 35, 42, 16, 26, 38, 31, 47]),\n",
       "  16927),\n",
       " (52,\n",
       "  array([22, 12, 46, 38, 34, 44, 23, 15, 40, 33, 13, 24,  4, 47, 28,  1,  3,\n",
       "         25,  9, 41, 31, 19, 14, 32, 45, 35, 27, 29, 42, 16, 18, 36,  5, 26,\n",
       "         20, 11,  8, 37,  7,  0, 21, 39, 43, 17,  6, 30, 10,  2]),\n",
       "  17075),\n",
       " (51,\n",
       "  array([18, 36,  5, 29, 17, 28, 34, 44, 23, 31, 38,  4, 41,  9, 25,  3,  1,\n",
       "         47, 40,  2, 19, 11,  0,  7,  8, 39, 21, 15, 33, 13, 22, 12, 10, 14,\n",
       "         37, 30, 43, 27,  6, 35, 20, 24, 46, 32, 45, 42, 26, 16]),\n",
       "  17125),\n",
       " (64,\n",
       "  array([20, 33,  1, 28,  3, 25, 41, 40, 15, 21,  2, 13, 38,  4, 47,  9, 44,\n",
       "         34, 23, 31, 46, 12, 24, 39, 14,  8, 37,  7,  0, 32, 45, 30, 17,  6,\n",
       "         42, 26,  5, 29, 11, 10, 22, 19, 16, 18, 36, 27, 43, 35]),\n",
       "  17326)]"
      ]
     },
     "execution_count": 10,
     "metadata": {},
     "output_type": "execute_result"
    }
   ],
   "source": [
    "def IHC(distance, ruch, n_iter_ruch, n_iter):  # ruch = {Swap, Insercja, Zamiana}\n",
    "    min_iter = []\n",
    "    for i in range(n_iter):\n",
    "        trasa = np.arange(len(distance))\n",
    "        np.random.shuffle(trasa)\n",
    "        odl = Odleglosc(distance,trasa)\n",
    "        for j in range(n_iter_ruch):\n",
    "                trasa_new = ruch(trasa)\n",
    "                odl_new = Odleglosc(distance,trasa_new)\n",
    "                if odl_new < odl:\n",
    "                    odl = odl_new\n",
    "                    trasa = trasa_new\n",
    "        min_iter.append((i,trasa,odl))\n",
    "    return min_iter\n",
    "wynik = IHC(distance,Swap,1000,100)\n",
    "wynik.sort(key=lambda x: x[2])\n",
    "wynik[0:10]\n",
    "\n"
   ]
  },
  {
   "cell_type": "code",
   "execution_count": 11,
   "metadata": {},
   "outputs": [],
   "source": [
    "def Geometric(T,alpha):\n",
    "    return alpha*T\n",
    "\n",
    "def Slow(T,alpha):\n",
    "    return T/(1+alpha*T)\n"
   ]
  },
  {
   "cell_type": "code",
   "execution_count": 12,
   "metadata": {},
   "outputs": [
    {
     "data": {
      "text/plain": [
       "[(20,\n",
       "  array([ 9,  3, 41, 28,  4, 33, 13, 12, 20, 31, 47, 23, 34, 44, 25,  1, 40,\n",
       "         15,  0,  8, 26, 16, 42, 43, 17, 35,  6, 27, 29,  5, 18, 36, 30, 37,\n",
       "          7, 21,  2, 22, 19, 32, 45, 14, 39, 11, 46, 10, 24, 38]),\n",
       "  15706),\n",
       " (4,\n",
       "  array([ 8,  7, 21,  0, 28,  4, 13, 31, 20, 24, 38, 47, 41,  9, 23, 44, 34,\n",
       "          3, 25,  1, 33, 15, 40, 22, 12,  2, 39, 11, 10, 46, 45, 30, 43, 35,\n",
       "         27, 29, 19, 14, 32,  5, 26, 42, 16, 18, 36,  6, 17, 37]),\n",
       "  15976),\n",
       " (35,\n",
       "  array([20, 31, 23, 44, 34,  9, 41, 47, 33, 22, 13, 12, 38, 24, 46,  2, 21,\n",
       "         37, 30, 36, 26, 29, 19,  4, 28, 25,  3,  1, 40, 15,  0,  7,  8, 39,\n",
       "         10, 11, 32, 14, 43, 35,  6, 17, 27,  5, 18, 42, 16, 45]),\n",
       "  16692),\n",
       " (10,\n",
       "  array([18, 26, 16, 42, 35, 17, 30,  8, 47, 23,  9, 25,  3, 34, 44, 41,  1,\n",
       "          4, 12, 24, 38, 31, 20, 22, 39,  2, 33, 28, 13, 10, 32,  5, 36, 29,\n",
       "         46, 19, 11, 14,  0, 40, 15, 21,  7, 37, 43, 45,  6, 27]),\n",
       "  16733),\n",
       " (88,\n",
       "  array([ 3,  1, 28, 13, 12, 22, 33, 40, 15, 21, 29, 42, 16, 26,  5, 27,  6,\n",
       "         17, 45, 32,  4, 41, 47, 38, 31, 46, 20, 24,  2, 10, 14, 37,  8,  0,\n",
       "          7, 39, 11, 18, 36, 35, 30, 43, 19, 23,  9, 34, 44, 25]),\n",
       "  16862),\n",
       " (72,\n",
       "  array([20, 38, 31, 47, 23, 44, 34,  3, 25, 33,  7,  0, 39, 22, 10, 46, 19,\n",
       "         11, 32, 42, 26, 16, 35, 45, 14,  8, 37, 30, 43, 17,  6,  5, 27, 36,\n",
       "         18, 29,  2, 40, 15, 21,  1,  9, 41, 28, 24, 12, 13,  4]),\n",
       "  17162),\n",
       " (95,\n",
       "  array([44, 34, 25,  3, 41,  1, 29, 16, 36, 18, 26, 42, 27,  5, 35, 11, 47,\n",
       "         31, 38, 12, 10, 46, 20, 13, 22, 37, 43,  8,  7,  0,  2, 33, 40, 15,\n",
       "         21, 39, 14, 32,  6, 17, 30, 45, 19, 24,  4, 28,  9, 23]),\n",
       "  17322),\n",
       " (83,\n",
       "  array([ 6, 17, 35,  1,  3, 44, 34, 25,  9, 41, 28, 47, 38, 31, 23,  4, 20,\n",
       "         10, 14, 39, 37, 43, 30,  7,  0,  8, 21, 15, 40, 13, 27, 29, 26,  5,\n",
       "         45, 32, 11, 12, 24, 33,  2, 22, 46, 19, 42, 16, 18, 36]),\n",
       "  17415),\n",
       " (39,\n",
       "  array([32, 35,  6, 17, 46, 20, 23,  9, 44, 34,  3, 25,  1, 41, 28, 40, 37,\n",
       "         45, 14, 39,  0,  7, 30, 29, 26, 16, 42, 27, 19, 31, 38,  4, 47, 13,\n",
       "         33, 15,  8, 43, 36, 18,  5, 21,  2, 24, 12, 10, 22, 11]),\n",
       "  17463),\n",
       " (15,\n",
       "  array([40,  1,  9, 47, 15, 21, 39, 19, 46, 20, 12, 31, 38, 13,  2,  7,  0,\n",
       "          8, 45, 37, 30, 43,  6, 36, 18, 26, 16,  5, 27, 17, 35, 42, 29, 32,\n",
       "         14, 34, 44, 23,  3, 25, 41,  4, 28, 33, 24, 10, 11, 22]),\n",
       "  17608)]"
      ]
     },
     "execution_count": 12,
     "metadata": {},
     "output_type": "execute_result"
    }
   ],
   "source": [
    "def SA(distance, ruch, n_iter_ruch, n_iter, T_start, cooling, alpha):  # ruch = {Swap, Insercja, Zamiana}, cooling = {Geometric, Slow}, alpha = cooling param \n",
    "    min_iter = []\n",
    "    for i in range(n_iter):\n",
    "        T = T_start\n",
    "        trasa = np.arange(len(distance))\n",
    "        np.random.shuffle(trasa)\n",
    "        odl = Odleglosc(distance,trasa)\n",
    "        for j in range(n_iter_ruch):\n",
    "                trasa_new = ruch(trasa)\n",
    "                odl_new = Odleglosc(distance,trasa_new)\n",
    "                diff_odl = odl_new - odl\n",
    "                if diff_odl < 0:\n",
    "                    odl = odl_new\n",
    "                    trasa = trasa_new\n",
    "                elif random.random() < math.exp(-diff_odl/T):\n",
    "                    odl = odl_new\n",
    "                    trasa = trasa_new\n",
    "                T = cooling(T,alpha)\n",
    "        min_iter.append((i,trasa,odl))\n",
    "    return min_iter\n",
    "wynik = SA(distance,Swap,1000,100,100,Slow,0.1)\n",
    "wynik.sort(key=lambda x: x[2])\n",
    "wynik[0:10]"
   ]
  },
  {
   "cell_type": "code",
   "execution_count": 13,
   "metadata": {},
   "outputs": [
    {
     "data": {
      "text/plain": [
       "[(38,\n",
       "  array([ 7, 30, 37, 43, 27,  6,  5, 36, 35, 45, 11, 39,  8, 14, 19, 20, 10,\n",
       "         29, 42, 16, 26, 18, 17, 32, 46, 24, 41, 23, 44, 34, 25,  3,  1,  9,\n",
       "         28, 40,  4, 47, 31, 38, 12,  2, 33, 13, 22, 15, 21,  0]),\n",
       "  16555),\n",
       " (16,\n",
       "  array([ 7, 43, 17, 14, 37,  8,  0, 39, 11, 32, 30, 45, 27, 29, 18, 36, 19,\n",
       "         20, 31, 38, 47,  4, 22, 10, 46, 12, 24, 13,  2, 35,  5, 42, 16, 26,\n",
       "          6, 15, 40,  1, 41, 23,  9, 34, 44, 25,  3, 28, 33, 21]),\n",
       "  16849),\n",
       " (85,\n",
       "  array([ 6,  5, 36, 26, 18, 42, 16, 14, 21, 40, 15,  8, 39, 22, 10,  2, 12,\n",
       "         20, 46, 11, 19, 32, 45, 35, 27, 29, 31,  4, 47, 28, 41,  9, 25,  3,\n",
       "          1, 33, 13, 24, 38, 23, 34, 44,  0,  7, 37, 30, 43, 17]),\n",
       "  17089),\n",
       " (45,\n",
       "  array([ 5, 36, 29, 26, 16, 18, 27, 42, 45, 38, 23,  1, 28,  4, 47, 24, 10,\n",
       "         22, 12, 13, 33, 40,  2, 21, 15, 39,  8,  0, 34, 44,  9, 25,  3, 41,\n",
       "         31, 20, 46,  6, 43, 30, 37,  7, 14, 11, 32, 19, 17, 35]),\n",
       "  17092),\n",
       " (69,\n",
       "  array([17, 32, 45, 40,  2, 33,  4, 34, 44, 47, 23,  9, 41, 25,  3,  1, 28,\n",
       "         31, 38, 24, 13, 11, 14, 35, 37,  0,  8, 10, 22, 39, 19, 46, 20, 12,\n",
       "         21, 15,  7, 30, 43,  5, 42, 29, 16, 26, 27,  6, 18, 36]),\n",
       "  17145),\n",
       " (13,\n",
       "  array([11, 19, 46, 20, 14,  6, 17, 35,  0, 15,  2, 22, 10, 39, 30, 37,  8,\n",
       "         33, 40,  1, 23,  9, 25,  3, 41, 47, 34, 44, 31, 38, 12, 13, 24,  4,\n",
       "         28, 21,  7, 43, 42, 16, 26, 29, 36, 18,  5, 27, 32, 45]),\n",
       "  17293),\n",
       " (61,\n",
       "  array([40, 39, 29, 18, 36,  5, 20, 38, 31, 23,  9,  3, 25, 34, 44, 41,  4,\n",
       "         12, 11, 32, 46, 14,  6, 35, 43, 45,  8,  0, 21,  7, 37, 30, 17, 27,\n",
       "         26, 16, 42, 19, 10,  2, 22, 13, 24, 47, 33, 28,  1, 15]),\n",
       "  17315),\n",
       " (76,\n",
       "  array([44, 23, 47,  4, 33, 28,  3, 25, 41, 20, 14, 30,  7,  8, 39, 11, 10,\n",
       "         12, 38, 31, 46, 19, 29, 18, 36,  5,  6, 27, 43, 17, 45, 32, 35, 42,\n",
       "         16, 26, 37, 15,  0,  2, 21, 22, 13, 24, 40,  1,  9, 34]),\n",
       "  17325),\n",
       " (63,\n",
       "  array([30, 37, 45, 32, 14, 11, 10, 22,  0, 15, 21,  7,  8, 39, 46, 24, 41,\n",
       "          1,  3, 34, 23, 44,  9, 25, 28, 47, 33, 40,  2, 13, 12, 19, 35,  5,\n",
       "         29, 27,  6, 17, 43, 20,  4, 38, 31, 16, 42, 36, 18, 26]),\n",
       "  17696),\n",
       " (72,\n",
       "  array([11, 39, 15, 21,  0, 17, 19, 46, 12, 38, 31, 47, 41, 25,  3, 44, 34,\n",
       "         40,  2, 20, 24, 33,  7, 37, 30, 27, 35, 29, 36,  5, 16, 42, 18, 26,\n",
       "          6, 43, 14,  8, 45, 32, 10, 23,  9,  1, 28,  4, 13, 22]),\n",
       "  17793)]"
      ]
     },
     "execution_count": 13,
     "metadata": {},
     "output_type": "execute_result"
    }
   ],
   "source": [
    "# wersja SA gdzie warunkiem stopu jest temperatura a nie liczba iteracji \n",
    "# (chyba lepiej tak bo upewniamy sie ze temperatura jest niska a podajac liczbe iteracji mozemy skonczyc na wysokiej temperaturze)\n",
    "# mozna tez dodac warunek stopu ze po np 100 iteracjach bez poprawy rozwiazania to koniec\n",
    "\n",
    "def SA(distance, ruch, n_iter, T_start, T_stop, cooling, alpha):  # ruch = {Swap, Insercja, Zamiana}, cooling = {Geometric, Slow}, alpha = cooling param \n",
    "    min_iter = []\n",
    "    for i in range(n_iter):\n",
    "        T = T_start\n",
    "        trasa = np.arange(len(distance))\n",
    "        np.random.shuffle(trasa)\n",
    "        odl = Odleglosc(distance,trasa)\n",
    "        while(T > T_stop):\n",
    "                trasa_new = ruch(trasa)\n",
    "                odl_new = Odleglosc(distance,trasa_new)\n",
    "                diff_odl = odl_new - odl\n",
    "                if diff_odl < 0:\n",
    "                    odl = odl_new\n",
    "                    trasa = trasa_new\n",
    "                elif random.random() < math.exp(-diff_odl/T):\n",
    "                    odl = odl_new\n",
    "                    trasa = trasa_new\n",
    "                T = cooling(T,alpha)\n",
    "        min_iter.append((i,trasa,odl))\n",
    "    return min_iter\n",
    "wynik = SA(distance,Swap,100,100,0.01,Slow,0.1)\n",
    "wynik.sort(key=lambda x: x[2])\n",
    "wynik[0:10]"
   ]
  },
  {
   "cell_type": "code",
   "execution_count": 14,
   "metadata": {},
   "outputs": [
    {
     "name": "stdout",
     "output_type": "stream",
     "text": [
      "1000\n"
     ]
    },
    {
     "data": {
      "text/plain": [
       "0.09990009990009993"
      ]
     },
     "execution_count": 14,
     "metadata": {},
     "output_type": "execute_result"
    }
   ],
   "source": [
    "# funkcje pomocnicze do sprawdzenia ile iteracji odpowiada parametrowi T_stop\n",
    "def T_stopToIter(T_start, T_stop, cooling, alpha):\n",
    "    T = T_start\n",
    "    i = 0\n",
    "    while(T > T_stop):\n",
    "        T = cooling(T,alpha)\n",
    "        i += 1\n",
    "    return i\n",
    "def IterToT_stop(T_start, n_iter, cooling, alpha):\n",
    "    T = T_start\n",
    "    for i in range(n_iter):\n",
    "        T = cooling(T,alpha)\n",
    "    return T\n",
    "print(T_stopToIter(100,0.01,Slow,0.1))\n",
    "IterToT_stop(100,100,Slow,0.1)"
   ]
  },
  {
   "cell_type": "code",
   "execution_count": 15,
   "metadata": {},
   "outputs": [],
   "source": [
    "# #algorytm ze swapem\n",
    "# trasa = np.arange(len(distance))\n",
    "# np.random.shuffle(trasa)\n",
    "# licza_iteracji = 5\n",
    "\n",
    "# print(\"Start\")\n",
    "# print(trasa)\n",
    "# print(Odleglosc(distance,trasa))\n",
    "# for i in range(licza_iteracji):\n",
    "#     print(\"\\n{} iteracja\".format(i+1))\n",
    "#     trasa = Ruch_swap(distance,trasa)\n",
    "#     print(trasa)\n",
    "#     print(Odleglosc(distance,trasa))\n"
   ]
  },
  {
   "cell_type": "code",
   "execution_count": 16,
   "metadata": {},
   "outputs": [],
   "source": [
    "# #algorytm z insercją\n",
    "# trasa = np.arange(len(distance))\n",
    "# np.random.shuffle(trasa)\n",
    "# licza_iteracji = 5\n",
    "\n",
    "# print(\"Start\")\n",
    "# print(trasa)\n",
    "# print(Odleglosc(distance,trasa))\n",
    "# for i in range(licza_iteracji):\n",
    "#     print(\"\\n{} iteracja\".format(i+1))\n",
    "#     trasa = Ruch_insercja(distance,trasa)\n",
    "#     print(trasa)\n",
    "#     print(Odleglosc(distance,trasa))"
   ]
  },
  {
   "cell_type": "code",
   "execution_count": 17,
   "metadata": {},
   "outputs": [],
   "source": [
    "# #algorytm z zamianą\n",
    "# trasa = np.arange(len(distance))\n",
    "# np.random.shuffle(trasa)\n",
    "# licza_iteracji = 1000\n",
    "\n",
    "# print(\"Start\")\n",
    "# print(trasa)\n",
    "# print(Odleglosc(distance,trasa))\n",
    "# for i in range(licza_iteracji):\n",
    "#     print(\"\\n{} iteracja\".format(i+1))\n",
    "#     trasa = Ruch_zamiana(distance,trasa)\n",
    "#     print(trasa)\n",
    "#     print(Odleglosc(distance,trasa))"
   ]
  },
  {
   "cell_type": "code",
   "execution_count": 20,
   "metadata": {},
   "outputs": [],
   "source": [
    "#NN\n",
    "min_odl = []\n",
    "for n in range(len(distance)):\n",
    "    potencjalne = np.arange(len(distance))\n",
    "    trasa = np.zeros(len(distance),dtype=int)\n",
    "    trasa[0] = potencjalne[n]\n",
    "    potencjalne = np.delete(potencjalne,int(trasa[0]))\n",
    "\n",
    "    for cur in range(1,len(trasa)):\n",
    "        odleglosci = []\n",
    "        for i in range(len(potencjalne)):\n",
    "            trasa[cur] = potencjalne[i]\n",
    "            odleglosci.append((potencjalne[i],Odleglosc(distance,trasa[0:cur+1])))\n",
    "        odleglosci.sort(key=lambda x: x[1])\n",
    "        trasa[cur] = odleglosci[0][0]\n",
    "        potencjalne = np.delete(potencjalne,potencjalne==trasa[cur])\n",
    "    min_odl.append((Odleglosc(distance,trasa),trasa))\n",
    "    \n",
    "min_odl.sort(key=lambda x:x[0])\n",
    "min_odl[:10]"
   ]
  }
 ],
 "metadata": {
  "kernelspec": {
   "display_name": "base",
   "language": "python",
   "name": "python3"
  },
  "language_info": {
   "codemirror_mode": {
    "name": "ipython",
    "version": 3
   },
   "file_extension": ".py",
   "mimetype": "text/x-python",
   "name": "python",
   "nbconvert_exporter": "python",
   "pygments_lexer": "ipython3",
   "version": "3.11.5"
  }
 },
 "nbformat": 4,
 "nbformat_minor": 2
}
