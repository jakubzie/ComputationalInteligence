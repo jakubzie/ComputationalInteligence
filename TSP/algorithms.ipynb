{
 "cells": [
  {
   "cell_type": "markdown",
   "metadata": {},
   "source": [
    "Rodzaje ruchu:\\\n",
    "Swap - losujemy dwa miasta i zamieniamy je ze sobą.\\\n",
    "Insercja - losujemy miasto i punkt w którym je umieszczamy.\\\n",
    "Zamiana kolejności - losujemy dwa punkty i między nimi zamieniamy kolejność.\\\n",
    "\\\n",
    "Sąsiedztwo to dwa przypadki które różnią się między sobą jednym ruchem\\\n",
    "\\\n",
    "Klasyczny algorytm wspinaczki z multistartem: po każdym ruchu liczymy drogę i sprawdzamy czy jest mniejsza czy nie, wybieramy tylko lepsze opcje. Multistart polega na wielokrotnym odpaleniu algorytmu z losowaniem punktu startowego.\\\n",
    "\\\n",
    "Algorytm symulowanego wyżarzania: zmodyfikowany algorytm wspinaczki, jeśli znalezione rozwiązanie jest gorsze to nadal je rozważamy, na podstawie tego jak bardzo jest gorsze oraz od temperatury.\\\n",
    "Temperatura jest wysoka na początku działania algorytmu i spada razem z czasem wykonywania algorytmu, im niższa temperatura tym mniejsze prawdopodobieństwo wybrania gorszego rozwiązania, bo algorytm już trochę działa i zakładamy że jest w lepszym miejscu niż na początku.\\\n",
    "Pozwala on nam wyjść z niektórych ekstremów lokalnych dzięki możliwości przyjęcia gorszego rozwiązania.\\\n",
    "\\\n",
    "Tabu search:\\\n",
    "Sąsiedztwo wygląda tutaj inaczej: przy swapie losujemy jedną liczbę i zamieniamy wszystkie kombinacje z tą liczbą, ze wszystkich kombinacji wybieramy najlepszą.\\\n",
    "Następnie taka kombinacja trafia na listę tabu, czyli takiej samej zamiany nie można wykonać przez określoną kolejną liczbę ruchów.\\\n",
    "\\\n",
    "Funkcja aspiracji to funkcja, która pod pewnymi warunkami pozwala wykonać ruch z listy tabu ale nie trzeba tego implementować.\\\n",
    "\\\n",
    "Odpowiednia długość listy tabu pozwala wyjść z niektórych ekstremów lokalnych, jeśli będzie za krótka to możemy nie wyjść z ekstremum lokalnego, jeśli będzie za długa to możemy wyjść z ekstremum niepotrzebnie.\n"
   ]
  },
  {
   "cell_type": "code",
   "execution_count": 25,
   "metadata": {},
   "outputs": [],
   "source": [
    "import numpy as np\n",
    "import pandas as pd\n",
    "import math\n",
    "import random"
   ]
  },
  {
   "cell_type": "code",
   "execution_count": 26,
   "metadata": {},
   "outputs": [],
   "source": [
    "#wspinaczka z multistartem\n",
    "distance = np.array([[0,2,4,1,5],\n",
    "                    [2,0,3,8,7],\n",
    "                    [4,3,0,5,1],\n",
    "                    [1,8,5,0,3],\n",
    "                    [5,7,1,3,0]])"
   ]
  },
  {
   "cell_type": "code",
   "execution_count": 27,
   "metadata": {},
   "outputs": [],
   "source": [
    "def Odleglosc(distance, trasa):\n",
    "    suma = 0\n",
    "    n = len(trasa)\n",
    "    \n",
    "    for i, current_city in enumerate(trasa):\n",
    "        next_city = trasa[(i + 1) % n]  # Use modulo to handle the last element\n",
    "        suma += distance[current_city][next_city]\n",
    "\n",
    "    return suma"
   ]
  },
  {
   "cell_type": "code",
   "execution_count": 28,
   "metadata": {},
   "outputs": [],
   "source": [
    "#swap\n",
    "def Swap(trasa):\n",
    "    trasa_temp = trasa.copy()\n",
    "    #print(trasa)\n",
    "    swap = np.random.choice(trasa_temp,2,replace=False)\n",
    "    temp = trasa_temp[swap[0]]\n",
    "    trasa_temp[swap[0]] = trasa_temp[swap[1]]\n",
    "    trasa_temp[swap[1]] = temp\n",
    "    #print(swap)\n",
    "    #print(trasa)\n",
    "    return trasa_temp\n",
    "\n",
    "#insercja\n",
    "def Insercja(trasa):\n",
    "    trasa_temp = trasa.copy()\n",
    "    insercja = np.random.choice(trasa_temp,2,replace=False)\n",
    "    #print(trasa_temp)\n",
    "    #print(insercja)\n",
    "    temp = trasa_temp[insercja[0]]\n",
    "    trasa_temp = np.delete(trasa_temp,insercja[0])\n",
    "    trasa_temp = np.insert(trasa_temp,insercja[1],temp)\n",
    "    #print(trasa_temp)\n",
    "    return trasa_temp\n",
    "\n",
    "def Zamiana(trasa):\n",
    "    trasa_temp = trasa.copy()\n",
    "    zamiana = np.random.choice(trasa_temp,2,replace=False)\n",
    "    zamiana.sort()\n",
    "    #print(trasa_temp)\n",
    "    #print(zamiana)\n",
    "    for i in range(math.ceil((zamiana[1]-zamiana[0])/2)):\n",
    "        temp = trasa_temp[zamiana[1]]\n",
    "        trasa_temp[zamiana[1]] = trasa_temp[zamiana[0]]\n",
    "        trasa_temp[zamiana[0]] = temp\n",
    "        zamiana[1] -= 1\n",
    "        zamiana[0] += 1\n",
    "    #print(trasa_temp)\n",
    "    return trasa_temp"
   ]
  },
  {
   "cell_type": "code",
   "execution_count": 29,
   "metadata": {},
   "outputs": [],
   "source": [
    "#Zamiana(trasa)"
   ]
  },
  {
   "cell_type": "code",
   "execution_count": 30,
   "metadata": {},
   "outputs": [],
   "source": [
    "#trasa = np.arange(len(distance))\n",
    "#np.random.shuffle(trasa)\n",
    "#Insercja(trasa)"
   ]
  },
  {
   "cell_type": "code",
   "execution_count": 31,
   "metadata": {},
   "outputs": [],
   "source": [
    "#temp = trasa[0] #temp = 4\n",
    "#trasa = np.delete(trasa,0)\n",
    "#trasa = np.insert(trasa,4,3)"
   ]
  },
  {
   "cell_type": "code",
   "execution_count": 32,
   "metadata": {},
   "outputs": [],
   "source": [
    "#ruch polegający na swapie, sprawdzenie sąsiadów, zwrot mniejszej trasy\n",
    "def Ruch_swap(distance,trasa):\n",
    "    odl = Odleglosc(distance,trasa)\n",
    "    trasa_new = Swap(trasa)\n",
    "    odl_new = Odleglosc(distance,trasa_new)\n",
    "    if odl_new < odl:\n",
    "        return trasa_new, odl_new\n",
    "    return trasa, odl, trasa_new, odl_new\n",
    "\n",
    "#ruch polegający na insercji, sprawdzenie sąsiadów, zwrot mniejszej trasy\n",
    "def Ruch_insercja(distance,trasa):\n",
    "    odl = Odleglosc(distance,trasa)\n",
    "    trasa_new = Insercja(trasa)\n",
    "    odl_new = Odleglosc(distance,trasa_new)\n",
    "    if odl_new < odl:\n",
    "        return trasa_new, odl_new\n",
    "    return trasa, odl\n",
    "\n",
    "#ruch polegający na zamianie, sprawdzenie sąsiadów, zwrot mniejszej trasy\n",
    "def Ruch_zamiana(distance,trasa):\n",
    "    odl = Odleglosc(distance,trasa)\n",
    "    trasa_new = Zamiana(trasa)\n",
    "    odl_new = Odleglosc(distance,trasa_new)\n",
    "    if odl_new < odl:\n",
    "        return trasa_new, odl_new  \n",
    "    return trasa, odl"
   ]
  },
  {
   "cell_type": "code",
   "execution_count": 33,
   "metadata": {},
   "outputs": [
    {
     "data": {
      "text/plain": [
       "array([[   0, 1495,  381, ...,  488,  753, 1184],\n",
       "       [1495,    0, 1135, ..., 1727, 1388,  661],\n",
       "       [ 381, 1135,    0, ...,  640,  591,  810],\n",
       "       ...,\n",
       "       [ 488, 1727,  640, ...,    0,  520, 1242],\n",
       "       [ 753, 1388,  591, ...,  520,    0,  801],\n",
       "       [1184,  661,  810, ..., 1242,  801,    0]], dtype=int64)"
      ]
     },
     "execution_count": 33,
     "metadata": {},
     "output_type": "execute_result"
    }
   ],
   "source": [
    "distance = pd.read_excel(\"Dane_TSP_48.xlsx\")\n",
    "distance = distance.to_numpy()\n",
    "distance = np.delete(distance,0,1)\n",
    "distance"
   ]
  },
  {
   "cell_type": "code",
   "execution_count": 34,
   "metadata": {},
   "outputs": [
    {
     "data": {
      "text/plain": [
       "[(55,\n",
       "  array([23,  9,  3, 25, 34, 44, 31, 21, 15, 40, 28,  1, 41,  4, 47, 10, 11,\n",
       "         27, 26, 18, 42, 16, 36, 45, 14, 39, 13, 12, 24, 38, 20, 46, 32, 19,\n",
       "         30, 43, 17,  6,  5, 29, 35, 37,  8,  0,  7,  2, 22, 33]),\n",
       "  16516),\n",
       " (9,\n",
       "  array([42, 20, 31, 38, 24, 13, 23, 47, 41,  9, 34, 44,  3, 25,  4, 22, 12,\n",
       "         10, 21,  2, 15,  7, 37, 30, 14, 32, 39,  0, 40, 28,  1, 33, 46, 19,\n",
       "         11,  8, 45, 17, 29, 26, 18, 36,  5, 27,  6, 43, 35, 16]),\n",
       "  16844),\n",
       " (23,\n",
       "  array([35, 36, 16, 42, 29,  6, 17, 30, 43, 45, 32, 31, 12, 38, 34, 44,  3,\n",
       "          1, 28, 33,  4, 23,  9, 25, 41, 47, 24, 13, 22, 20, 46, 19, 11, 18,\n",
       "         26,  5, 27, 37,  8,  7, 15, 40, 21,  2, 10,  0, 39, 14]),\n",
       "  16898),\n",
       " (87,\n",
       "  array([43, 30, 40, 28,  1,  4, 38, 31, 44, 34,  3, 25, 10, 39, 11, 14, 45,\n",
       "         37,  8, 19, 46, 20, 12, 24,  9, 23, 41, 47, 33, 21,  7, 15,  0,  2,\n",
       "         13, 22, 32, 35,  5, 36, 18, 16, 26, 42, 29, 27, 17,  6]),\n",
       "  16917),\n",
       " (98,\n",
       "  array([43, 30, 37,  6,  7,  0,  1, 28,  4, 41, 23,  9, 25,  3, 34, 44, 31,\n",
       "         38, 47, 24, 13, 46, 14, 35, 27, 36, 18,  5, 29,  8, 39, 33, 40, 21,\n",
       "         15,  2, 22, 10, 11, 32, 45, 17, 19, 12, 20, 42, 16, 26]),\n",
       "  17019),\n",
       " (59,\n",
       "  array([19, 11, 32, 14,  8, 13,  4, 41, 23,  9,  1, 28, 40, 15, 21,  0,  7,\n",
       "         37, 45,  5, 36, 18, 16, 29, 26, 42,  6, 35, 27, 17, 46, 12, 10, 43,\n",
       "         30, 39,  2, 38, 24, 22, 33, 47, 44, 34,  3, 25, 31, 20]),\n",
       "  17088),\n",
       " (19,\n",
       "  array([31, 29, 18, 36,  6, 17,  5, 27, 35, 19, 14, 32, 11, 10, 39,  8,  7,\n",
       "         30, 37, 43, 26, 16, 42, 45,  0, 15,  2, 22, 13, 24, 38, 23, 44, 34,\n",
       "          9, 41, 47, 20, 12, 46, 21, 40,  4, 33, 28,  1,  3, 25]),\n",
       "  17324),\n",
       " (97,\n",
       "  array([44, 34,  9, 31, 20, 38, 13, 24, 41,  3, 25,  1, 21, 45,  6, 17, 43,\n",
       "         30, 37,  0, 39, 14, 19, 11, 32, 46, 10,  2, 40, 33, 28, 47,  4, 22,\n",
       "         15,  7,  8, 29, 42, 16, 26, 18, 36,  5, 27, 35, 12, 23]),\n",
       "  17465),\n",
       " (15,\n",
       "  array([ 0,  7, 37, 43, 17, 35, 27,  4, 47, 28, 33, 22, 39, 14, 11,  2, 15,\n",
       "         21, 24, 13,  8, 30, 36, 16, 29, 45, 32, 12, 10,  6, 42, 26, 18,  5,\n",
       "         19, 46, 20, 38, 31, 23, 44, 34,  9,  3, 25, 41,  1, 40]),\n",
       "  17526),\n",
       " (0,\n",
       "  array([38, 23, 44, 34,  9, 31, 43, 42, 26,  5, 16, 29, 18, 36, 30, 37,  7,\n",
       "          0, 10, 12, 20, 46, 11, 32, 39,  8, 14, 19, 45, 35, 27,  6, 17, 21,\n",
       "         40,  1, 28,  3, 25, 41, 13, 22,  2, 15, 33,  4, 47, 24]),\n",
       "  17565)]"
      ]
     },
     "execution_count": 34,
     "metadata": {},
     "output_type": "execute_result"
    }
   ],
   "source": [
    "def IHC(distance, ruch, n_iter_ruch, n_iter):  # ruch = {Swap, Insercja, Zamiana}\n",
    "    min_iter = []\n",
    "    for i in range(n_iter):\n",
    "        trasa = np.arange(len(distance))\n",
    "        np.random.shuffle(trasa)\n",
    "        odl = Odleglosc(distance,trasa)\n",
    "        for j in range(n_iter_ruch):\n",
    "                trasa_new = ruch(trasa)\n",
    "                odl_new = Odleglosc(distance,trasa_new)\n",
    "                if odl_new < odl:\n",
    "                    odl = odl_new\n",
    "                    trasa = trasa_new\n",
    "        min_iter.append((i,trasa,odl))\n",
    "    return min_iter\n",
    "wynik = IHC(distance,Swap,1000,100)\n",
    "wynik.sort(key=lambda x: x[2])\n",
    "wynik[0:10]\n",
    "\n"
   ]
  },
  {
   "cell_type": "code",
   "execution_count": 35,
   "metadata": {},
   "outputs": [],
   "source": [
    "def Geometric(T,alpha):\n",
    "    return alpha*T\n",
    "\n",
    "def Slow(T,alpha):\n",
    "    return T/(1+alpha*T)\n"
   ]
  },
  {
   "cell_type": "code",
   "execution_count": 145,
   "metadata": {},
   "outputs": [
    {
     "data": {
      "text/plain": [
       "[(57,\n",
       "  array([27, 35,  6, 17, 43, 46, 20, 12, 13, 24, 38, 31, 32, 30, 45, 14, 11,\n",
       "         19, 22,  2, 33, 39,  0,  8, 37,  7, 21, 15, 40,  4, 23,  9,  3, 44,\n",
       "         34, 25, 47, 41,  1, 28, 10, 29, 36, 18, 16, 42, 26,  5]),\n",
       "  15937),\n",
       " (4,\n",
       "  array([ 6, 36, 26, 42, 20, 38, 31, 24, 13,  4, 47, 41,  3, 25,  1, 28, 40,\n",
       "         33,  2, 15, 21, 22, 44, 34,  9, 23, 46, 12, 10,  7,  0,  8, 11, 14,\n",
       "         39, 45, 35, 17, 43, 30, 27,  5, 29, 18, 16, 19, 32, 37]),\n",
       "  16823),\n",
       " (91,\n",
       "  array([ 5, 27, 29, 36, 26, 16, 42, 14, 17, 43, 37, 19, 11, 22,  2, 15, 21,\n",
       "          1, 25,  3, 41, 31, 38, 24, 46, 20, 44, 34,  9, 23, 47,  4, 28, 33,\n",
       "         40, 39,  0,  8,  7, 13, 12, 10, 32, 45, 30, 35,  6, 18]),\n",
       "  16865),\n",
       " (39,\n",
       "  array([42,  5, 27,  6, 43, 45, 32, 19, 46, 20, 12, 10, 13, 24, 47, 41,  4,\n",
       "         33, 37, 30, 14, 34, 44,  3, 25, 38, 31, 23,  9,  1, 28, 15,  0,  7,\n",
       "          8, 39, 21,  2, 40, 22, 11, 17, 35, 29, 36, 18, 26, 16]),\n",
       "  16899),\n",
       " (40,\n",
       "  array([ 0,  2, 33, 13, 24, 32, 29, 18, 26, 36,  5, 43, 45, 39, 14, 10, 46,\n",
       "         31, 12, 22, 11,  6, 27, 35, 30,  8,  7, 21, 15, 40, 28,  1, 38,  4,\n",
       "         41,  3, 25,  9, 34, 44, 23, 47, 20, 19, 42, 16, 17, 37]),\n",
       "  16910),\n",
       " (92,\n",
       "  array([ 2, 10, 22, 21,  0,  8, 14, 46, 13, 12, 42, 16, 18, 36,  5, 35, 43,\n",
       "         17, 45, 11, 32, 29, 26, 27,  6,  7, 15, 33, 24, 38, 31, 40, 28,  4,\n",
       "         47, 44, 34, 25,  3,  1, 41,  9, 23, 20, 19, 30, 37, 39]),\n",
       "  17290),\n",
       " (28,\n",
       "  array([25,  3,  1, 28, 47, 24,  0,  8,  7, 14, 19, 11, 18, 36,  6, 17, 30,\n",
       "         15, 40,  4, 33,  2, 39, 22, 10, 12, 13, 21, 37, 43, 29, 42, 16, 26,\n",
       "          5, 27, 35, 45, 32, 46, 20, 44, 34,  9, 23, 38, 31, 41]),\n",
       "  17387),\n",
       " (46,\n",
       "  array([41, 23,  1, 40, 15, 21,  2, 22, 24, 38, 31, 12, 10, 11, 45, 27, 18,\n",
       "         26, 36,  5, 35, 14,  8, 13,  9,  3, 25, 34, 44, 20, 46, 39,  0,  7,\n",
       "         37, 43, 30,  6, 17, 29, 16, 42, 32, 19, 33,  4, 47, 28]),\n",
       "  17443),\n",
       " (47,\n",
       "  array([43,  6, 27,  5, 18, 36, 10, 46, 16, 26, 42, 29, 35, 19, 23, 44,  9,\n",
       "         34, 38, 31, 20, 40, 15, 21,  2,  8, 30, 37, 32, 12, 24, 13,  4, 47,\n",
       "         41, 25,  3,  1, 28, 33, 22,  0,  7, 39, 11, 14, 45, 17]),\n",
       "  17501),\n",
       " (7,\n",
       "  array([28,  1, 24, 19, 18, 36, 16, 26, 42, 46, 20, 47, 38, 12, 10, 11, 32,\n",
       "          6, 27, 17, 43, 30, 14, 39, 37,  8,  0, 21,  7, 45, 29,  5, 35,  2,\n",
       "         15, 33, 40, 22, 13, 31, 23, 25, 34, 44,  9,  3, 41,  4]),\n",
       "  17575)]"
      ]
     },
     "execution_count": 145,
     "metadata": {},
     "output_type": "execute_result"
    }
   ],
   "source": [
    "def SA(distance, ruch, n_iter_ruch, n_iter, T_start, cooling, alpha):  # ruch = {Swap, Insercja, Zamiana}, cooling = {Geometric, Slow}, alpha = cooling param \n",
    "    min_iter = []\n",
    "    for i in range(n_iter):\n",
    "        T = T_start\n",
    "        trasa = np.arange(len(distance))\n",
    "        np.random.shuffle(trasa)\n",
    "        odl = Odleglosc(distance,trasa)\n",
    "        for j in range(n_iter_ruch):\n",
    "                trasa_new = ruch(trasa)\n",
    "                odl_new = Odleglosc(distance,trasa_new)\n",
    "                diff_odl = odl_new - odl\n",
    "                if diff_odl < 0:\n",
    "                    odl = odl_new\n",
    "                    trasa = trasa_new\n",
    "                elif random.random() < math.exp(-diff_odl/T):\n",
    "                    odl = odl_new\n",
    "                    trasa = trasa_new\n",
    "                T = cooling(T,alpha)\n",
    "        min_iter.append((i,trasa,odl))\n",
    "    return min_iter\n",
    "wynik = SA(distance,Swap,1000,100,100,Slow,0.1)\n",
    "wynik.sort(key=lambda x: x[2])\n",
    "wynik[0:10]"
   ]
  },
  {
   "cell_type": "code",
   "execution_count": 143,
   "metadata": {},
   "outputs": [
    {
     "data": {
      "text/plain": [
       "[(25,\n",
       "  array([31, 24, 12, 10, 22, 39, 14, 11, 17, 36, 18, 26, 16, 42, 29,  5, 27,\n",
       "         19, 46, 32, 45, 30, 37, 13, 47,  4, 28,  1, 23, 44, 34,  9,  3, 25,\n",
       "         41, 40, 33,  2, 21, 15,  7,  0,  8, 43,  6, 35, 20, 38]),\n",
       "  14977),\n",
       " (18,\n",
       "  array([40, 14, 35,  6, 17, 43, 32, 45, 11, 19, 29, 42, 16, 26, 18, 36,  5,\n",
       "         27, 30,  8, 39,  2, 33, 28,  1, 41,  9, 23, 25,  3, 34, 44, 31, 38,\n",
       "         20, 24,  4, 47, 13, 12, 46,  0,  7, 37, 10, 22, 21, 15]),\n",
       "  15106),\n",
       " (65,\n",
       "  array([28,  1,  3, 34, 44,  9, 38, 31, 20, 19, 29, 42, 16, 18, 26, 36, 45,\n",
       "          8, 39,  2, 22, 13, 10, 14, 32, 46, 11, 30, 37, 21, 33, 40, 15,  0,\n",
       "          7, 35, 27,  5,  6, 17, 43, 12, 24, 47, 23, 25, 41,  4]),\n",
       "  16468),\n",
       " (71,\n",
       "  array([12, 10, 11, 32, 45, 29, 26, 16, 42, 19, 13, 47, 23, 41,  9, 44, 34,\n",
       "          3, 25, 28,  1,  4, 24, 22,  0, 21, 15,  2, 33, 40, 31, 38, 35, 37,\n",
       "         30, 17, 27, 36, 18,  5,  6, 43,  8,  7, 39, 14, 46, 20]),\n",
       "  16505),\n",
       " (69,\n",
       "  array([24, 21, 13, 22,  4, 47, 41,  9, 23, 31, 20, 16, 26,  5, 36, 18, 42,\n",
       "         29, 27,  6, 17, 43, 30,  8,  0, 15,  2, 33, 40, 28,  1, 44, 34,  3,\n",
       "         25, 38, 12, 10, 46, 32, 11, 19, 35, 37,  7, 14, 45, 39]),\n",
       "  16584),\n",
       " (44,\n",
       "  array([ 8, 37, 30, 43, 17,  6, 29, 42, 16, 35, 19, 20, 12,  4, 47, 38, 31,\n",
       "         23, 25,  3, 34, 44,  1, 28, 40, 39, 45, 27, 36, 26, 18,  5, 32, 13,\n",
       "         24, 41,  9, 33,  2,  0,  7, 15, 21, 22, 46, 10, 14, 11]),\n",
       "  16709),\n",
       " (40,\n",
       "  array([31, 20, 24, 13, 12,  9, 44, 34, 41, 33,  2,  0, 21, 15, 37, 17, 27,\n",
       "          5, 35, 45, 10, 22, 46, 19, 11, 39,  8, 14, 32, 29, 26, 42, 16, 36,\n",
       "         18,  6, 43, 30,  7, 40, 28,  4, 38, 47,  1,  3, 25, 23]),\n",
       "  16717),\n",
       " (20,\n",
       "  array([25,  4, 40, 15, 21,  0,  7, 37, 43, 41, 34, 44,  3,  9, 23, 38, 31,\n",
       "         22, 10, 46, 20, 47, 33, 13, 24, 12, 11, 19, 32, 45, 35,  6, 27,  5,\n",
       "         42, 26, 16, 36, 18, 29, 17, 30,  8, 14, 39,  2, 28,  1]),\n",
       "  16725),\n",
       " (62,\n",
       "  array([13, 22, 11, 14,  4,  1, 25,  3, 41, 47, 20, 46, 19, 16, 26, 42, 45,\n",
       "          8,  0,  7, 37,  6, 17, 35,  5, 36, 18, 27, 43, 30, 29, 32, 39,  2,\n",
       "         24, 38, 31, 23, 34, 44,  9, 28, 40, 33, 15, 21, 10, 12]),\n",
       "  16803),\n",
       " (39,\n",
       "  array([39, 10, 38, 47,  4, 41, 25,  1, 28,  9,  3, 34, 44, 23, 46, 19, 31,\n",
       "         20, 14, 11, 30, 45, 17,  6, 36, 18, 16,  5, 27, 43, 35, 29, 26, 42,\n",
       "         32, 12, 22, 24, 13, 40, 33,  2, 21, 37,  7, 15,  0,  8]),\n",
       "  16846)]"
      ]
     },
     "execution_count": 143,
     "metadata": {},
     "output_type": "execute_result"
    }
   ],
   "source": [
    "# wersja SA gdzie warunkiem stopu jest temperatura a nie liczba iteracji \n",
    "# (chyba lepiej tak bo upewniamy sie ze temperatura jest niska a podajac liczbe iteracji mozemy skonczyc na wysokiej temperaturze)\n",
    "# mozna tez dodac warunek stopu ze po np 100 iteracjach bez poprawy rozwiazania to koniec\n",
    "\n",
    "def SA(distance, ruch, n_iter, T_start, T_stop, cooling, alpha):  # ruch = {Swap, Insercja, Zamiana}, cooling = {Geometric, Slow}, alpha = cooling param \n",
    "    min_iter = []\n",
    "    for i in range(n_iter):\n",
    "        T = T_start\n",
    "        trasa = np.arange(len(distance))\n",
    "        np.random.shuffle(trasa)\n",
    "        odl = Odleglosc(distance,trasa)\n",
    "        while(T > T_stop):\n",
    "                trasa_new = ruch(trasa)\n",
    "                odl_new = Odleglosc(distance,trasa_new)\n",
    "                diff_odl = odl_new - odl\n",
    "                if diff_odl < 0:\n",
    "                    odl = odl_new\n",
    "                    trasa = trasa_new\n",
    "                elif random.random() < math.exp(-diff_odl/T):\n",
    "                    odl = odl_new\n",
    "                    trasa = trasa_new\n",
    "                T = cooling(T,alpha)\n",
    "        min_iter.append((i,trasa,odl))\n",
    "    return min_iter\n",
    "wynik = SA(distance,Swap,100,100,0.01,Slow,0.1)\n",
    "wynik.sort(key=lambda x: x[2])\n",
    "wynik[0:10]"
   ]
  },
  {
   "cell_type": "code",
   "execution_count": 38,
   "metadata": {},
   "outputs": [
    {
     "name": "stdout",
     "output_type": "stream",
     "text": [
      "1000\n"
     ]
    },
    {
     "data": {
      "text/plain": [
       "0.09990009990009993"
      ]
     },
     "execution_count": 38,
     "metadata": {},
     "output_type": "execute_result"
    }
   ],
   "source": [
    "# funkcje pomocnicze do sprawdzenia ile iteracji odpowiada parametrowi T_stop\n",
    "def T_stopToIter(T_start, T_stop, cooling, alpha):\n",
    "    T = T_start\n",
    "    i = 0\n",
    "    while(T > T_stop):\n",
    "        T = cooling(T,alpha)\n",
    "        i += 1\n",
    "    return i\n",
    "def IterToT_stop(T_start, n_iter, cooling, alpha):\n",
    "    T = T_start\n",
    "    for i in range(n_iter):\n",
    "        T = cooling(T,alpha)\n",
    "    return T\n",
    "print(T_stopToIter(100,0.01,Slow,0.1))\n",
    "IterToT_stop(100,100,Slow,0.1)"
   ]
  },
  {
   "cell_type": "code",
   "execution_count": 142,
   "metadata": {},
   "outputs": [],
   "source": [
    "# #algorytm ze swapem\n",
    "# trasa = np.arange(len(distance))\n",
    "# np.random.shuffle(trasa)\n",
    "# licza_iteracji = 5\n",
    "\n",
    "# print(\"Start\")\n",
    "# print(trasa)\n",
    "# print(Odleglosc(distance,trasa))\n",
    "# for i in range(licza_iteracji):\n",
    "#     print(\"\\n{} iteracja\".format(i+1))\n",
    "#     trasa = Ruch_swap(distance,trasa)\n",
    "#     print(trasa)\n",
    "#     print(Odleglosc(distance,trasa))\n"
   ]
  },
  {
   "cell_type": "code",
   "execution_count": 141,
   "metadata": {},
   "outputs": [],
   "source": [
    "# #algorytm z insercją\n",
    "# trasa = np.arange(len(distance))\n",
    "# np.random.shuffle(trasa)\n",
    "# licza_iteracji = 5\n",
    "\n",
    "# print(\"Start\")\n",
    "# print(trasa)\n",
    "# print(Odleglosc(distance,trasa))\n",
    "# for i in range(licza_iteracji):\n",
    "#     print(\"\\n{} iteracja\".format(i+1))\n",
    "#     trasa = Ruch_insercja(distance,trasa)\n",
    "#     print(trasa)\n",
    "#     print(Odleglosc(distance,trasa))"
   ]
  },
  {
   "cell_type": "code",
   "execution_count": 140,
   "metadata": {},
   "outputs": [],
   "source": [
    "# #algorytm z zamianą\n",
    "# trasa = np.arange(len(distance))\n",
    "# np.random.shuffle(trasa)\n",
    "# licza_iteracji = 1000\n",
    "\n",
    "# print(\"Start\")\n",
    "# print(trasa)\n",
    "# print(Odleglosc(distance,trasa))\n",
    "# for i in range(licza_iteracji):\n",
    "#     print(\"\\n{} iteracja\".format(i+1))\n",
    "#     trasa = Ruch_zamiana(distance,trasa)\n",
    "#     print(trasa)\n",
    "#     print(Odleglosc(distance,trasa))"
   ]
  },
  {
   "cell_type": "code",
   "execution_count": 137,
   "metadata": {},
   "outputs": [
    {
     "data": {
      "text/plain": [
       "[(13251,\n",
       "  array([ 8,  0,  7, 37, 30, 45, 14, 39, 11, 32, 43, 17,  6, 35, 27,  5, 29,\n",
       "         36, 18, 26, 42, 16, 19, 10, 22,  2, 21, 15, 40, 33, 13, 12, 46, 20,\n",
       "         24, 38, 31, 47,  4, 28,  1, 41, 23,  9, 25,  3, 34, 44])),\n",
       " (13251,\n",
       "  array([ 8,  0,  7, 37, 30, 45, 14, 39, 11, 32, 43, 17,  6, 35, 27,  5, 29,\n",
       "         36, 18, 26, 42, 16, 19, 10, 22,  2, 21, 15, 40, 33, 13, 12, 46, 20,\n",
       "         24, 38, 31, 47,  4, 28,  1, 41, 23,  9, 25,  3, 34, 44])),\n",
       " (13251,\n",
       "  array([ 8,  0,  7, 37, 30, 45, 14, 39, 11, 32, 43, 17,  6, 35, 27,  5, 29,\n",
       "         36, 18, 26, 42, 16, 19, 10, 22,  2, 21, 15, 40, 33, 13, 12, 46, 20,\n",
       "         24, 38, 31, 47,  4, 28,  1, 41, 23,  9, 25,  3, 34, 44])),\n",
       " (13414,\n",
       "  array([44, 34,  9, 23, 41, 25,  3,  1, 28,  4, 47, 38, 31, 24, 13, 12, 20,\n",
       "         46, 10, 22, 33,  2, 21, 15, 40, 39, 11, 19, 32, 14, 45,  8,  0,  7,\n",
       "         37, 30, 43, 17, 35,  6, 27, 29, 42, 26,  5, 36, 18, 16])),\n",
       " (13414,\n",
       "  array([44, 34,  9, 23, 41, 25,  3,  1, 28,  4, 47, 38, 31, 24, 13, 12, 20,\n",
       "         46, 10, 22, 33,  2, 21, 15, 40, 39, 11, 19, 32, 14, 45,  8,  0,  7,\n",
       "         37, 30, 43, 17, 35,  6, 27, 29, 42, 26,  5, 36, 18, 16])),\n",
       " (13454,\n",
       "  array([20, 46, 12, 24, 13, 22, 10, 11, 19, 32, 14, 39,  2, 33, 38, 31, 47,\n",
       "          4, 28, 41, 23,  9, 25,  3, 34, 44,  1, 40, 21, 15,  0,  8, 45, 35,\n",
       "         17,  6, 27, 29,  5, 36, 18, 26, 42, 16, 43, 30, 37,  7])),\n",
       " (13454,\n",
       "  array([20, 46, 12, 24, 13, 22, 10, 11, 19, 32, 14, 39,  2, 33, 38, 31, 47,\n",
       "          4, 28, 41, 23,  9, 25,  3, 34, 44,  1, 40, 21, 15,  0,  8, 45, 35,\n",
       "         17,  6, 27, 29,  5, 36, 18, 26, 42, 16, 43, 30, 37,  7])),\n",
       " (13454,\n",
       "  array([20, 46, 12, 24, 13, 22, 10, 11, 19, 32, 14, 39,  2, 33, 38, 31, 47,\n",
       "          4, 28, 41, 23,  9, 25,  3, 34, 44,  1, 40, 21, 15,  0,  8, 45, 35,\n",
       "         17,  6, 27, 29,  5, 36, 18, 26, 42, 16, 43, 30, 37,  7])),\n",
       " (13525,\n",
       "  array([41,  9, 23, 47,  4, 28,  1, 25,  3, 34, 44, 31, 38, 24, 13, 33, 12,\n",
       "         20, 46, 10, 22,  2, 40, 15, 21, 39, 11, 14, 32, 19, 45,  8,  0,  7,\n",
       "         37, 30, 43, 17, 35,  6, 27, 29,  5, 36, 18, 26, 42, 16])),\n",
       " (13525,\n",
       "  array([41,  9, 23, 47,  4, 28,  1, 25,  3, 34, 44, 31, 38, 24, 13, 33, 12,\n",
       "         20, 46, 10, 22,  2, 40, 15, 21, 39, 11, 14, 32, 19, 45,  8,  0,  7,\n",
       "         37, 30, 43, 17, 35,  6, 27, 29,  5, 36, 18, 26, 42, 16]))]"
      ]
     },
     "execution_count": 137,
     "metadata": {},
     "output_type": "execute_result"
    }
   ],
   "source": [
    "#NN\n",
    "min_odl = []\n",
    "for n in range(100):\n",
    "    potencjalne = np.arange(len(distance))\n",
    "    trasa = np.zeros(len(distance),dtype=int)\n",
    "    trasa[0] = np.random.choice(potencjalne,1)\n",
    "    potencjalne = np.delete(potencjalne,int(trasa[0]))\n",
    "\n",
    "    for cur in range(1,len(trasa)):\n",
    "        odleglosci = []\n",
    "        for i in range(len(potencjalne)):\n",
    "            trasa[cur] = potencjalne[i]\n",
    "            odleglosci.append((potencjalne[i],Odleglosc(distance,trasa[0:cur+1])))\n",
    "        odleglosci.sort(key=lambda x: x[1])\n",
    "        trasa[cur] = odleglosci[0][0]\n",
    "        potencjalne = np.delete(potencjalne,potencjalne==trasa[cur])\n",
    "    min_odl.append((Odleglosc(distance,trasa),trasa))\n",
    "    \n",
    "min_odl.sort(key=lambda x:x[0])\n",
    "min_odl[:10]"
   ]
  }
 ],
 "metadata": {
  "kernelspec": {
   "display_name": "base",
   "language": "python",
   "name": "python3"
  },
  "language_info": {
   "codemirror_mode": {
    "name": "ipython",
    "version": 3
   },
   "file_extension": ".py",
   "mimetype": "text/x-python",
   "name": "python",
   "nbconvert_exporter": "python",
   "pygments_lexer": "ipython3",
   "version": "3.11.5"
  }
 },
 "nbformat": 4,
 "nbformat_minor": 2
}
